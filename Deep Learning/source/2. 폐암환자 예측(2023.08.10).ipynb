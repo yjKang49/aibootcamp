{
 "cells": [
  {
   "cell_type": "markdown",
   "metadata": {},
   "source": [
    "# 딥러닝 핵심 미리보기\n",
    "## 나의 첫 딥러닝: '폐암 수술 환자의 생존율 예측' 코드 미리보기\n",
    "#### \n",
    "\n",
    "### 참고자료\n",
    "https://github.com/taehojo/deeplearning"
   ]
  },
  {
   "cell_type": "markdown",
   "metadata": {},
   "source": [
    "### 1. 환경 준비"
   ]
  },
  {
   "cell_type": "code",
   "execution_count": 1,
   "metadata": {},
   "outputs": [
    {
     "name": "stdout",
     "output_type": "stream",
     "text": [
      "2.13.0\n"
     ]
    }
   ],
   "source": [
    "# pip install tensorflow\n",
    "# 설치하고 jupyter / visual studio code 나갔다 들어와야함\n",
    "import tensorflow as tf\n",
    "print(tf.__version__)"
   ]
  },
  {
   "cell_type": "code",
   "execution_count": 2,
   "metadata": {},
   "outputs": [],
   "source": [
    "from tensorflow.keras.models import Sequential    # 텐서플로우 라이브러리의 케라스 패키지에서 models 클래스의 Sequential() 메서드(함수)\n",
    "from tensorflow.keras.layers import Dense   # 데이터를 다루는데 필요한 라이브러리를 불러옴\n",
    "import numpy as np"
   ]
  },
  {
   "cell_type": "markdown",
   "metadata": {},
   "source": [
    "### 2. 데이터 준비"
   ]
  },
  {
   "cell_type": "code",
   "execution_count": 4,
   "metadata": {},
   "outputs": [
    {
     "data": {
      "text/plain": [
       "array([[ 1.  ,  2.88,  2.16, ...,  0.  , 60.  ,  0.  ],\n",
       "       [ 2.  ,  3.4 ,  1.88, ...,  0.  , 51.  ,  0.  ],\n",
       "       [ 2.  ,  2.76,  2.08, ...,  0.  , 59.  ,  0.  ],\n",
       "       ...,\n",
       "       [ 2.  ,  3.04,  2.08, ...,  0.  , 52.  ,  0.  ],\n",
       "       [ 2.  ,  1.96,  1.68, ...,  0.  , 79.  ,  0.  ],\n",
       "       [ 2.  ,  4.72,  3.56, ...,  0.  , 51.  ,  0.  ]])"
      ]
     },
     "execution_count": 4,
     "metadata": {},
     "output_type": "execute_result"
    }
   ],
   "source": [
    "Data_set = np.loadtxt('../data/ThoraricSurgery3.csv', delimiter = ',')\n",
    "X = Data_set[:, 0:16]       # 환자의 진찰 기록을 X로 나타낸다\n",
    "y = Data_set[:, 16]         # 수술 후 사망/생존 여부를 y로 지정합니다.\n",
    "Data_set"
   ]
  },
  {
   "cell_type": "markdown",
   "metadata": {},
   "source": [
    "### 3. 구조 결정"
   ]
  },
  {
   "cell_type": "code",
   "execution_count": 6,
   "metadata": {},
   "outputs": [],
   "source": [
    "model = Sequential()        # 딥러닝 모델. 케라스에서 신경망 모델을 만드는 클래스\n",
    "# 순차적인 모델을 쌓는 것.  model.add로 층을 쌓음, 맨 처음에만 input값이 들어간다.\n",
    "model.add(Dense(30, input_dim = 16, activation = 'relu'))   # 입력이 16개(feature). 활성화 함수가 relu, 첫번째 hidden layer가 30개. 즉, 입력값 16개가 30개로 출력됨.\n",
    "model.add(Dense(1, activation = 'sigmoid'))       # 1이 output, 활성화함수는 sigmoid"
   ]
  },
  {
   "cell_type": "markdown",
   "metadata": {},
   "source": [
    "1) 인공신경망 모델을 만듬<br>\n",
    "**model = Sequential()** \n",
    "2) 멤버 함수 add()를 이용해 인공지능 계층 추가 <br>\n",
    "**model.add(Dense(30, input_dim=17, activation='relu'))** \n",
    "3) 만든 모델을 어떻게 학습할지 파라미터로 지정하고 컴파일 합니다.<br>\n",
    "**model.compile(loss='binary_crossentropy', optimizer='adam', metrics=['accuracy'])** \n",
    "4) 모델을 주어진 데이터로 학습<br>\n",
    "**model.fit** "
   ]
  },
  {
   "cell_type": "markdown",
   "metadata": {},
   "source": [
    "### 4. 모델 실행"
   ]
  },
  {
   "cell_type": "code",
   "execution_count": 7,
   "metadata": {},
   "outputs": [
    {
     "name": "stdout",
     "output_type": "stream",
     "text": [
      "Epoch 1/4\n",
      "30/30 [==============================] - 1s 2ms/step - loss: 2.3028 - accuracy: 0.3340\n",
      "Epoch 2/4\n",
      "30/30 [==============================] - 0s 2ms/step - loss: 0.5445 - accuracy: 0.8255\n",
      "Epoch 3/4\n",
      "30/30 [==============================] - 0s 2ms/step - loss: 0.4668 - accuracy: 0.8319\n",
      "Epoch 4/4\n",
      "30/30 [==============================] - 0s 2ms/step - loss: 0.4275 - accuracy: 0.8511\n"
     ]
    }
   ],
   "source": [
    "model.compile(loss = 'binary_crossentropy', optimizer = 'adam', metrics = ['accuracy'])     # adam은 가장 성능이 좋다고 알려진 최적화 방법. loss는 손실함수\n",
    "#딥러닝 모델을 실행합니다\n",
    "history = model.fit(X, y, epochs = 4, batch_size = 16)  "
   ]
  },
  {
   "cell_type": "markdown",
   "metadata": {},
   "source": [
    "* epoch : 학습반복횟수\n",
    "* batch_size : 몇 개의 샘플로 가중치를 갱신할 것인지 지정. 한번에 학습할 데이터의 건수\n",
    "* metrics 측정도구 'accuracy' 정확도를 가지고 하겠다.\n",
    "* 모델은 많이 돌릴수록 정확도는 올라가야하고 loss는 내려가야함"
   ]
  },
  {
   "cell_type": "code",
   "execution_count": null,
   "metadata": {},
   "outputs": [],
   "source": []
  }
 ],
 "metadata": {
  "kernelspec": {
   "display_name": "base",
   "language": "python",
   "name": "python3"
  },
  "language_info": {
   "codemirror_mode": {
    "name": "ipython",
    "version": 3
   },
   "file_extension": ".py",
   "mimetype": "text/x-python",
   "name": "python",
   "nbconvert_exporter": "python",
   "pygments_lexer": "ipython3",
   "version": "3.9.16"
  },
  "orig_nbformat": 4
 },
 "nbformat": 4,
 "nbformat_minor": 2
}
