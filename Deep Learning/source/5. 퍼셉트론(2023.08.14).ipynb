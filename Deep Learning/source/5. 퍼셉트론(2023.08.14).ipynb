{
 "cells": [
  {
   "cell_type": "markdown",
   "metadata": {},
   "source": [
    "# 7장. 퍼셉트론과 인공지능의 시작\n",
    "\n",
    "\n",
    "#### 수업자료\n",
    "* C:\\Users\\lenovo\\Documents\\aibootcamp\\Deep Learning\\딥러닝_보조교재\\chap07.pdf\n",
    "* C:\\Users\\lenovo\\Documents\\aibootcamp\\Deep Learning\\딥러닝_보조교재\\chap08.pdf\n",
    "* C:\\Users\\lenovo\\Documents\\aibootcamp\\Deep Learning\\딥러닝_보조교재\\chap09.pdf"
   ]
  },
  {
   "cell_type": "markdown",
   "metadata": {},
   "source": [
    "## 1. 인공지능의 시작을 알린 퍼셉트론\n",
    "* 인간의 뇌는 칠하게 연결된 뉴런 약 1000억 개로 이루어져 있음\n",
    "* 뉴런과 뉴런 사이에는 시냅스라는 연결 부위가 있는데, 신경 말단에서 자극을 받으면 시냅스에서 화학물질이 나와 전위 변화를 일으킴\n",
    "* 전위가 임계값을 넘으면 다음 뉴런으로 신호를 전달하고, 임계값에 미치지 못하면 아무것도 하지 않음\n",
    "* 이 메커니즘은 우리가 앞서 배운 로지스틱 회귀와 많이 닮았음\n",
    "* 이 간단한 회로는 입력값을 놓고 활성화 함수에 의해 일정한 수준을 넘으면 참을, 그렇지 않으면 거짓을 내보내는 일을 하는데, 뉴런과 유사함.\n",
    "* 우리 몸 안에 있는 수많은 뉴런은 서로 긴밀히 연결되어 신경 말단부터 뇌까지 곳곳에서 자신의 역할을 수행\n",
    "* 이처럼 복잡하고 어려운 조합의 결과가 바로 우리의 '생각'\n",
    "* 뉴런과 비슷한 매커니즘을 사용하면 인공적으로 '생각'하는 그 무언가를 만들 수 있지 않을까?"
   ]
  },
  {
   "cell_type": "markdown",
   "metadata": {},
   "source": [
    "* 가중합(weighted sum)이란 입력값과 가중치를 모두 곱한 후 편향(bias)를 더한 값을 의미"
   ]
  },
  {
   "cell_type": "markdown",
   "metadata": {},
   "source": [
    "![Alt text](image.png)"
   ]
  },
  {
   "cell_type": "markdown",
   "metadata": {},
   "source": [
    "![Alt text](image-1.png)"
   ]
  },
  {
   "cell_type": "markdown",
   "metadata": {},
   "source": [
    "## 2. 퍼셉트론의 과제\n",
    "* 퍼셉트론이 완성되고 아달라인에 의해 보완되며 드디어 현실 세계의 다양한 문제를 해결하는 인공지능이 개발될 것으로 기대햇음. \n",
    "* 곧 퍼셉트론의 한계가 보고\n",
    "* 퍼셉트론의 한게가 무엇이었는지 알고 이를 극복하는 과정을 이해하는 것은 우리에게도 매우 중요함 \n",
    "* 이것을 해결한 것이 바로 딥러닝이기 때문임.\n",
    "* 지금부터는 퍼셉트론의 한계와 이를 해결하는 과정을 보며 신경망의 기본 개념을 확립해보자. "
   ]
  },
  {
   "cell_type": "markdown",
   "metadata": {},
   "source": [
    "![Alt text](image-2.png)"
   ]
  },
  {
   "cell_type": "markdown",
   "metadata": {},
   "source": [
    "* 선을 여러 개 아무리 그어 보아도 하나의 직선으로는 흰색 점과 검은색 점을 구분할 수 없음. \n",
    "* 퍼셉트론이나 아달라인은 모두 2차원 평면상에 직선을 긋는 것만 가능함\n",
    "* 이것이 퍼셉트론의 한계를 설명할 때 등장하는 XOR(exclusive OR) 문제. \n",
    "* XOR 문제는 논리회로에 등장하는 개념\n",
    "* 컴퓨터는 두 가지의 디지털 값, 즉 0과 1을 입력해 하나의 값을 출력하는 회로가 모여 만들어지는데, 이 회로를 '게이트(gate)'라고 함.\n",
    "* XOR 게이트는 둘 중 한만 1일 때 1이 출력됨. "
   ]
  },
  {
   "cell_type": "markdown",
   "metadata": {},
   "source": [
    "![Alt text](image-3.png)"
   ]
  },
  {
   "cell_type": "markdown",
   "metadata": {},
   "source": [
    "# 8장. 다층 퍼셉트론 "
   ]
  },
  {
   "cell_type": "markdown",
   "metadata": {},
   "source": [
    "## 1. 다층 퍼셉트론의 등장\n",
    "* 종이를 휘어주어 선 두 개를 동시에 긋는 방법. \n",
    "* 이것을 XOR문제에 적용하면 '퍼셉트론 두 개를 한 번에 계산'하면 된다는 결론에 이름\n",
    "* 이를 위해 퍼셉트론 두 개를 각각 처리하는 은닉층(hidden layer)를 만듦\n",
    "<br>\n",
    "* [그림 8-4] \n",
    "    1. 먼저 [1] x1과 x2를 두 연산으로 각각 보냄\n",
    "    2. [2] 첫번째 연산에서는 NAND 처리 함\n",
    "    3. [3] 이와 동시에 두번째 연산에서 OR 처리를 함\n",
    "    4. [2]와 [3]을 통해 구한 결과값 1과 결과값 2를 가지고 [4]에 AND처리를 하면 우리가 구하고자 하는 출력 값을 만들 수 있음."
   ]
  },
  {
   "cell_type": "markdown",
   "metadata": {},
   "source": [
    "![Alt text](image-4.png)\n",
    "![Alt text](image-5.png)"
   ]
  },
  {
   "cell_type": "markdown",
   "metadata": {},
   "source": [
    "* 우리가 원하는 XOR 문제의 정답이 도출\n",
    "* 이렇게 퍼셉트론 하나로 해결되지 않던 문제를 은닉층을 만들어 해결\n",
    "* 퍼셉트론의 문제가 완전히 해결된 것은 아니었음\n",
    "* 다층 퍼셉트론을 사용할 경우 XOR문제는 해결되었지만, 은닉층에 들어있는 가주치를 데이터를 통해 학습하는 방법이 아직 없었기 때문. \n",
    "* 다층 퍼셉트론의 적절한 학습 방법을 찾기까지 그 후로 약 20여 년의 시간이 더 필요했음. \n",
    "* 이 기간을 흔히 인공지능의 겨울이라고 함. "
   ]
  },
  {
   "cell_type": "markdown",
   "metadata": {},
   "source": [
    "* 이 겨울을 지나며 데이터 과학자들은 두 부류로 나뉨\n",
    "* 하나는 최적화된 예측선을 잘 그려주던 아달라인을 발전시켜 SVM이나 로지스틱 회귀 모델을 만든 그룹\n",
    "* 또 하나의 그룹은 여러 어려움 속에서도 끝까지 다층 퍼셉트론의 학습 방법을 찾던 그룹\n",
    "* 이 두 번째 그룹에 속해 있던 제프리 힌튼(Geoffrey Hinton)교수가 바로 딥러닝의 아버지로 칭송받는 사람\n",
    "* 힌튼 교수는 여러가지 혁신적인 아이디어로 인공지능의 겨울을 극복해냈음\n",
    "* 첫번째 아이디어는 1986년에 발표한 오차 역전파"
   ]
  },
  {
   "cell_type": "markdown",
   "metadata": {},
   "source": [
    "![Alt text](image-6.png)"
   ]
  },
  {
   "cell_type": "markdown",
   "metadata": {},
   "source": [
    "### 다층 퍼셉트론으로 XOR 문제 해결하기"
   ]
  },
  {
   "cell_type": "code",
   "execution_count": 1,
   "metadata": {},
   "outputs": [],
   "source": [
    "import numpy as np\n",
    "\n",
    "# 가중치와 바이어스\n",
    "w11 = np.array([-2, -2])\n",
    "w12 = np.array([2, 2])\n",
    "w2 = np.array([1, 1])\n",
    "b1 = 3\n",
    "b2 = -1\n",
    "b3 = -1\n",
    "\n",
    "# 퍼셉트론\n",
    "def MLP(x, w, b):\n",
    "    y = np.sum(w * x) + b\n",
    "    if y <= 0:\n",
    "        return 0\n",
    "    else:\n",
    "        return 1\n",
    "\n",
    "# NAND 게이트\n",
    "def NAND(x1,x2):\n",
    "    return MLP(np.array([x1, x2]), w11, b1)\n",
    "\n",
    "# OR 게이트\n",
    "def OR(x1,x2):\n",
    "    return MLP(np.array([x1, x2]), w12, b2)\n",
    "\n",
    "# AND 게이트\n",
    "def AND(x1,x2):\n",
    "    return MLP(np.array([x1, x2]), w2, b3)\n",
    "\n",
    "# XOR 게이트\n",
    "def XOR(x1,x2):\n",
    "    return AND(NAND(x1, x2),OR(x1,x2))\n",
    "\n",
    "# x1, x2 값을 번갈아 대입해 가며 최종 값 출력\n",
    "    for x in [(0, 0), (1, 0), (0, 1), (1, 1)]:\n",
    "        y = XOR(x[0], x[1])\n",
    "        print(\"입력 값: \" + str(x) + \" 출력 값: \" + str(y)) "
   ]
  },
  {
   "cell_type": "markdown",
   "metadata": {},
   "source": [
    "# 9장. 오차 역전파에서 딥러닝으로"
   ]
  },
  {
   "cell_type": "markdown",
   "metadata": {},
   "source": [
    "* 해결되지 않던 XOR문제를 다층 퍼셉트론으로 해결\n",
    "* 한 가지 문제를 만남.\n",
    "* 은닉층에 포함된 가중치를 업데이트할 방법이 없었던 것\n",
    "* 이는 인공지능의 겨울을 지나 오차 역전파라는 방법을 만나고 나서야 해결\n",
    "* 오차 역전파는 후에 지금 우리가 아는 딥러닝의 탄생으로 이어짐.\n",
    "* 오차역전파는 어떻게 해서 은닉층의 오차를 업데이트할 수 있었을까?"
   ]
  },
  {
   "cell_type": "markdown",
   "metadata": {},
   "source": [
    "![Alt text](image-7.png)\n",
    "![Alt text](image-8.png)\n",
    "![Alt text](image-9.png)"
   ]
  },
  {
   "cell_type": "markdown",
   "metadata": {},
   "source": [
    "## 활성화 함수와 고급 경사 하강법( 암기!!! )\n",
    "* sigmoid 함수 <br>\n",
    "$$f(x) = \\cfrac{1}{1+e^{-x}}$$\n",
    "\n",
    "* ReLU 함수 <br>\n",
    "$$ f(x) = \n",
    "\\begin{cases} \n",
    "x, (x > 0)\\\\\n",
    "0, (x \\leq 0)\n",
    "\\end{cases}\n",
    "$$"
   ]
  },
  {
   "cell_type": "markdown",
   "metadata": {},
   "source": [
    "* 어떤 경사하강법을 써야하는지 잘 모르겠으면 adam을 쓰기. 가장 효율적인 알고리즘. "
   ]
  },
  {
   "cell_type": "code",
   "execution_count": null,
   "metadata": {},
   "outputs": [],
   "source": []
  }
 ],
 "metadata": {
  "kernelspec": {
   "display_name": "base",
   "language": "python",
   "name": "python3"
  },
  "language_info": {
   "codemirror_mode": {
    "name": "ipython",
    "version": 3
   },
   "file_extension": ".py",
   "mimetype": "text/x-python",
   "name": "python",
   "nbconvert_exporter": "python",
   "pygments_lexer": "ipython3",
   "version": "3.9.16"
  },
  "orig_nbformat": 4
 },
 "nbformat": 4,
 "nbformat_minor": 2
}
