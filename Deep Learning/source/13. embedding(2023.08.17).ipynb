{
 "cells": [
  {
   "cell_type": "code",
   "execution_count": 2,
   "metadata": {},
   "outputs": [
    {
     "name": "stdout",
     "output_type": "stream",
     "text": [
      "Collecting tensorflow_hub\n",
      "  Obtaining dependency information for tensorflow_hub from https://files.pythonhosted.org/packages/30/78/9d5292a2b616901bdb075bbf0c777b293f4140bb48108ac2b33fd716c2eb/tensorflow_hub-0.14.0-py2.py3-none-any.whl.metadata\n",
      "  Downloading tensorflow_hub-0.14.0-py2.py3-none-any.whl.metadata (1.4 kB)\n",
      "Requirement already satisfied: numpy>=1.12.0 in c:\\users\\user\\anaconda3\\lib\\site-packages (from tensorflow_hub) (1.23.5)\n",
      "Requirement already satisfied: protobuf>=3.19.6 in c:\\users\\user\\anaconda3\\lib\\site-packages (from tensorflow_hub) (3.20.3)\n",
      "Downloading tensorflow_hub-0.14.0-py2.py3-none-any.whl (90 kB)\n",
      "   ---------------------------------------- 0.0/90.3 kB ? eta -:--:--\n",
      "   ---------------------------------------- 90.3/90.3 kB 5.0 MB/s eta 0:00:00\n",
      "Installing collected packages: tensorflow_hub\n",
      "Successfully installed tensorflow_hub-0.14.0\n"
     ]
    },
    {
     "name": "stderr",
     "output_type": "stream",
     "text": [
      "WARNING: Ignoring invalid distribution -ygments (c:\\users\\user\\anaconda3\\lib\\site-packages)\n",
      "WARNING: Ignoring invalid distribution -ygments (c:\\users\\user\\anaconda3\\lib\\site-packages)\n"
     ]
    }
   ],
   "source": [
    "!pip install tensorflow_hub"
   ]
  },
  {
   "cell_type": "code",
   "execution_count": 3,
   "metadata": {
    "colab": {},
    "colab_type": "code",
    "id": "pmvMQfjab_We"
   },
   "outputs": [],
   "source": [
    "import tensorflow as tf\n",
    "import tensorflow_hub as hub\n",
    "import numpy as np"
   ]
  },
  {
   "cell_type": "code",
   "execution_count": 9,
   "metadata": {
    "colab": {},
    "colab_type": "code",
    "id": "jNcXT21nb_Wo"
   },
   "outputs": [],
   "source": [
    "# Load Pretrained Word2Vec\n",
    "embed = hub.load(\"https://tfhub.dev/google/Wiki-words-250-with-normalization/2\")"
   ]
  },
  {
   "cell_type": "code",
   "execution_count": 10,
   "metadata": {
    "colab": {},
    "colab_type": "code",
    "id": "7tyzhR6Wb_Ws"
   },
   "outputs": [],
   "source": [
    "#words = [\"coffee\", \"cafe\", \"football\", \"soccer\"]\n",
    "words = [\"cat\", \"dog\", \"happy\", \"joy\"]\n",
    "# Compute embeddings.\n",
    "embeddings = embed(words)"
   ]
  },
  {
   "cell_type": "code",
   "execution_count": 11,
   "metadata": {
    "colab": {
     "base_uri": "https://localhost:8080/",
     "height": 35
    },
    "colab_type": "code",
    "id": "KBwyXLDub_W5",
    "outputId": "09298574-439e-4dca-b677-0d800f52285b"
   },
   "outputs": [
    {
     "name": "stdout",
     "output_type": "stream",
     "text": [
      "(4, 250)\n"
     ]
    }
   ],
   "source": [
    "print(embeddings.shape)"
   ]
  },
  {
   "cell_type": "code",
   "execution_count": 12,
   "metadata": {
    "colab": {
     "base_uri": "https://localhost:8080/",
     "height": 1000
    },
    "colab_type": "code",
    "id": "qs7R2k20b_W-",
    "outputId": "06ef9a72-7439-435d-f0ea-9659a07daec2"
   },
   "outputs": [
    {
     "name": "stdout",
     "output_type": "stream",
     "text": [
      "tf.Tensor(\n",
      "[-9.02263522e-02 -5.92681654e-02  9.36282724e-02  1.22781163e-02\n",
      " -4.29381430e-03  2.91167088e-02 -2.67234147e-02 -1.78336993e-01\n",
      "  6.32100925e-02 -4.36324514e-02  3.80062461e-02  5.93412928e-02\n",
      "  1.78387742e-02  5.80865853e-02  3.80070582e-02  6.35408312e-02\n",
      "  5.59702180e-02 -2.82338485e-02  5.86770251e-02 -8.04539248e-02\n",
      "  8.61731395e-02  4.20686789e-02 -6.38437718e-02 -4.56397757e-02\n",
      " -8.26565316e-04 -2.74271257e-02 -4.85783890e-02 -3.02128657e-03\n",
      "  1.96928717e-02  7.50550330e-02 -3.38843018e-02 -4.86239232e-02\n",
      "  3.60696353e-02 -1.49989696e-02  5.38611338e-02 -5.84659204e-02\n",
      "  5.11402497e-03  1.98326129e-02  1.18531315e-02  7.35010579e-02\n",
      " -3.52372900e-02 -1.40145600e-01 -7.74593577e-02 -2.47473326e-02\n",
      "  7.75676221e-02  4.90232669e-02 -2.44710688e-02  1.02667831e-01\n",
      " -9.38041955e-02  1.53545486e-02  2.46168729e-02 -3.00151482e-02\n",
      " -3.52986678e-02  6.00716285e-02 -2.48565897e-02 -4.26412523e-02\n",
      " -9.02085677e-02 -1.10053588e-02  4.11457196e-02 -4.90286248e-03\n",
      "  2.01676507e-03  2.13900744e-03  3.68483812e-02  3.27388532e-02\n",
      "  1.10335998e-01 -3.04946285e-02 -7.45159984e-02 -1.81194150e-03\n",
      " -2.61131525e-02  8.69668201e-02 -3.10395006e-02 -4.39849049e-02\n",
      "  9.24623758e-02  1.38204619e-01  4.51311618e-02  4.89860922e-02\n",
      " -1.02892272e-01  8.73237103e-02 -3.81942429e-02  4.97562587e-02\n",
      " -1.50184473e-02 -3.74728553e-02 -7.43308142e-02 -5.36485799e-02\n",
      " -2.72837486e-02 -6.34228624e-03 -1.99124336e-01 -9.61218961e-03\n",
      "  2.97004706e-03  6.36048019e-02  4.63693812e-02  4.26661549e-03\n",
      "  7.40363225e-02 -1.28268033e-01  3.62106822e-02 -7.75083154e-02\n",
      " -5.41861430e-02  1.11014605e-01 -3.00687309e-02  4.65180352e-02\n",
      "  3.52076790e-03  7.49409273e-02 -7.25744367e-02  5.28336987e-02\n",
      "  3.44550647e-02  4.54595545e-03  6.16895445e-02  1.16579100e-01\n",
      "  1.10849468e-02  6.31719362e-03  6.85635582e-02 -4.01909351e-02\n",
      "  6.38909489e-02  5.04767075e-02 -4.25864272e-02 -2.68208832e-02\n",
      "  1.13171108e-01 -1.06643647e-01 -6.06978945e-02 -1.11614570e-01\n",
      " -3.51085551e-02  5.52340271e-03 -4.25110348e-02 -3.22516151e-02\n",
      "  2.06677951e-02 -1.49349719e-01 -3.76869887e-02 -2.95053478e-02\n",
      "  6.35854155e-02 -2.41130441e-02  7.81300571e-03 -4.53481562e-02\n",
      " -5.90055957e-02 -1.42349228e-01 -1.22109437e-02  4.56218794e-02\n",
      " -3.33549641e-02 -3.72488610e-02 -8.59716758e-02  5.15809283e-03\n",
      " -6.51473328e-02  1.27784103e-01 -4.87307273e-03  6.36976138e-02\n",
      " -7.09829777e-02 -3.78422439e-02 -2.11833581e-01  3.51384953e-02\n",
      "  5.68004251e-02  4.24664542e-02  6.62076846e-03 -5.81396297e-02\n",
      " -3.89276892e-02  1.66826881e-02  1.90078039e-02  3.68205160e-02\n",
      "  7.33078867e-02  3.62914056e-02 -1.05567239e-01 -4.72657994e-04\n",
      " -9.61846858e-02 -9.83465230e-04  2.12858077e-02 -1.25374675e-01\n",
      " -2.41016466e-02 -1.68700740e-02  9.07304361e-02  4.92891185e-02\n",
      " -6.73757121e-02  1.06237091e-01  5.60102798e-02 -4.04336639e-02\n",
      " -8.09458271e-02 -8.94133225e-02 -3.18212360e-02 -3.45877372e-02\n",
      "  3.93316858e-02  7.73395821e-02  3.22156362e-02  6.06748648e-02\n",
      "  3.00962571e-02 -3.00498272e-04 -3.10710222e-02 -8.18357468e-02\n",
      "  3.26264724e-02 -7.64698163e-02  7.56813884e-02  5.35066426e-02\n",
      " -7.56212547e-02 -4.50147837e-02 -4.92087305e-02 -3.18306424e-02\n",
      "  9.91950408e-02  4.52724583e-02 -5.05679175e-02  2.00064443e-02\n",
      " -1.62599254e-02 -5.52683473e-02  1.23090763e-02 -1.45480633e-01\n",
      " -4.50559445e-02 -1.61203593e-01  1.61937736e-02  5.93989044e-02\n",
      " -2.09677331e-02 -2.77446187e-03  5.52759171e-02 -7.09034652e-02\n",
      " -2.14364696e-02 -1.19642727e-01 -1.00393035e-01  9.91278663e-02\n",
      " -2.51371060e-02  2.18277215e-03  2.17365902e-02  5.48746949e-03\n",
      "  4.40614391e-03  1.14711863e-03  6.96574152e-03 -4.50582802e-03\n",
      " -1.02118999e-01  5.80803901e-02 -2.53806300e-02  9.08026025e-02\n",
      "  8.15166980e-02  4.35478836e-02 -4.63047624e-02  3.80348265e-02\n",
      " -5.31215891e-02 -8.44644790e-04 -2.29410231e-02  1.49628249e-04\n",
      " -2.59951223e-02 -5.08967377e-02 -8.05925056e-02 -1.23749543e-02\n",
      "  8.26316141e-03 -3.98415439e-02 -1.89879406e-02 -9.25308540e-02\n",
      "  5.27456068e-02 -4.57185134e-02  2.45125089e-02  1.22280598e-01\n",
      " -1.34053072e-02 -6.08207919e-02 -5.15153073e-02 -7.51608610e-02\n",
      "  5.43177538e-02 -7.63554350e-02], shape=(250,), dtype=float32)\n"
     ]
    }
   ],
   "source": [
    "print(embeddings[0]) "
   ]
  },
  {
   "cell_type": "code",
   "execution_count": 13,
   "metadata": {
    "colab": {
     "base_uri": "https://localhost:8080/",
     "height": 197
    },
    "colab_type": "code",
    "id": "_kZmgWn5b_XG",
    "outputId": "b6059922-5935-48c2-aec0-02bd9faf3944"
   },
   "outputs": [
    {
     "name": "stdout",
     "output_type": "stream",
     "text": [
      "( cat , cat ) 1.0\n",
      "( cat , dog ) 0.8490828\n",
      "( cat , happy ) 0.24620044\n",
      "( cat , joy ) 0.1742664\n",
      "( dog , dog ) 1.0\n",
      "( dog , happy ) 0.30577725\n",
      "( dog , joy ) 0.21511233\n",
      "( happy , happy ) 1.0\n",
      "( happy , joy ) 0.7225264\n",
      "( joy , joy ) 1.0000001\n"
     ]
    }
   ],
   "source": [
    "# Compute similarity matrix. Higher score indicates greater similarity.\n",
    "for i in range(len(words)):\n",
    "    for j in range(i,len(words)):\n",
    "        print(\"(\",words[i], \",\", words[j],\")\",np.inner(embeddings[i], embeddings[j]))"
   ]
  },
  {
   "cell_type": "code",
   "execution_count": null,
   "metadata": {
    "colab": {},
    "colab_type": "code",
    "id": "P9RjkCGTgRAs"
   },
   "outputs": [],
   "source": []
  },
  {
   "cell_type": "code",
   "execution_count": null,
   "metadata": {},
   "outputs": [],
   "source": []
  },
  {
   "cell_type": "code",
   "execution_count": null,
   "metadata": {},
   "outputs": [],
   "source": []
  }
 ],
 "metadata": {
  "colab": {
   "name": "09.Word2Vec.ipynb",
   "provenance": []
  },
  "kernelspec": {
   "display_name": "Python 3 (ipykernel)",
   "language": "python",
   "name": "python3"
  },
  "language_info": {
   "codemirror_mode": {
    "name": "ipython",
    "version": 3
   },
   "file_extension": ".py",
   "mimetype": "text/x-python",
   "name": "python",
   "nbconvert_exporter": "python",
   "pygments_lexer": "ipython3",
   "version": "3.10.9"
  }
 },
 "nbformat": 4,
 "nbformat_minor": 1
}
