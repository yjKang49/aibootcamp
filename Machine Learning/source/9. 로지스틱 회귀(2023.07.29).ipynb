{
 "cells": [
  {
   "cell_type": "markdown",
   "id": "a4a47807",
   "metadata": {},
   "source": [
    "## 럭키백의 확률\n",
    "\n",
    "## 데이터 준비하기"
   ]
  },
  {
   "cell_type": "code",
   "execution_count": 1,
   "id": "d768477a",
   "metadata": {},
   "outputs": [
    {
     "data": {
      "text/html": [
       "<div>\n",
       "<style scoped>\n",
       "    .dataframe tbody tr th:only-of-type {\n",
       "        vertical-align: middle;\n",
       "    }\n",
       "\n",
       "    .dataframe tbody tr th {\n",
       "        vertical-align: top;\n",
       "    }\n",
       "\n",
       "    .dataframe thead th {\n",
       "        text-align: right;\n",
       "    }\n",
       "</style>\n",
       "<table border=\"1\" class=\"dataframe\">\n",
       "  <thead>\n",
       "    <tr style=\"text-align: right;\">\n",
       "      <th></th>\n",
       "      <th>Species</th>\n",
       "      <th>Weight</th>\n",
       "      <th>Length</th>\n",
       "      <th>Diagonal</th>\n",
       "      <th>Height</th>\n",
       "      <th>Width</th>\n",
       "    </tr>\n",
       "  </thead>\n",
       "  <tbody>\n",
       "    <tr>\n",
       "      <th>0</th>\n",
       "      <td>Bream</td>\n",
       "      <td>242.0</td>\n",
       "      <td>25.4</td>\n",
       "      <td>30.0</td>\n",
       "      <td>11.5200</td>\n",
       "      <td>4.0200</td>\n",
       "    </tr>\n",
       "    <tr>\n",
       "      <th>1</th>\n",
       "      <td>Bream</td>\n",
       "      <td>290.0</td>\n",
       "      <td>26.3</td>\n",
       "      <td>31.2</td>\n",
       "      <td>12.4800</td>\n",
       "      <td>4.3056</td>\n",
       "    </tr>\n",
       "    <tr>\n",
       "      <th>2</th>\n",
       "      <td>Bream</td>\n",
       "      <td>340.0</td>\n",
       "      <td>26.5</td>\n",
       "      <td>31.1</td>\n",
       "      <td>12.3778</td>\n",
       "      <td>4.6961</td>\n",
       "    </tr>\n",
       "    <tr>\n",
       "      <th>3</th>\n",
       "      <td>Bream</td>\n",
       "      <td>363.0</td>\n",
       "      <td>29.0</td>\n",
       "      <td>33.5</td>\n",
       "      <td>12.7300</td>\n",
       "      <td>4.4555</td>\n",
       "    </tr>\n",
       "    <tr>\n",
       "      <th>4</th>\n",
       "      <td>Bream</td>\n",
       "      <td>430.0</td>\n",
       "      <td>29.0</td>\n",
       "      <td>34.0</td>\n",
       "      <td>12.4440</td>\n",
       "      <td>5.1340</td>\n",
       "    </tr>\n",
       "  </tbody>\n",
       "</table>\n",
       "</div>"
      ],
      "text/plain": [
       "  Species  Weight  Length  Diagonal   Height   Width\n",
       "0   Bream   242.0    25.4      30.0  11.5200  4.0200\n",
       "1   Bream   290.0    26.3      31.2  12.4800  4.3056\n",
       "2   Bream   340.0    26.5      31.1  12.3778  4.6961\n",
       "3   Bream   363.0    29.0      33.5  12.7300  4.4555\n",
       "4   Bream   430.0    29.0      34.0  12.4440  5.1340"
      ]
     },
     "execution_count": 1,
     "metadata": {},
     "output_type": "execute_result"
    }
   ],
   "source": [
    "import pandas as pd\n",
    "fish = pd.read_csv('https://bit.ly/fish_csv')\n",
    "fish.head()"
   ]
  },
  {
   "cell_type": "code",
   "execution_count": 2,
   "id": "024f6537",
   "metadata": {},
   "outputs": [
    {
     "name": "stdout",
     "output_type": "stream",
     "text": [
      "['Bream' 'Roach' 'Whitefish' 'Parkki' 'Perch' 'Pike' 'Smelt']\n"
     ]
    }
   ],
   "source": [
    "#물고기 종류 7가지\n",
    "print(pd.unique(fish['Species']))"
   ]
  },
  {
   "cell_type": "code",
   "execution_count": 3,
   "id": "bcb8f7c5",
   "metadata": {},
   "outputs": [
    {
     "name": "stdout",
     "output_type": "stream",
     "text": [
      "['Bream' 'Roach' 'Whitefish' 'Parkki' 'Perch' 'Pike' 'Smelt']\n"
     ]
    }
   ],
   "source": [
    "print(pd.unique(fish['Species']))"
   ]
  },
  {
   "cell_type": "code",
   "execution_count": 4,
   "id": "ffddf9e8",
   "metadata": {},
   "outputs": [],
   "source": [
    "fish_input = fish[['Weight', 'Length', 'Diagonal', 'Height', 'Width']].to_numpy()"
   ]
  },
  {
   "cell_type": "code",
   "execution_count": 5,
   "id": "e80b6b12",
   "metadata": {},
   "outputs": [
    {
     "name": "stdout",
     "output_type": "stream",
     "text": [
      "[[242.      25.4     30.      11.52     4.02  ]\n",
      " [290.      26.3     31.2     12.48     4.3056]\n",
      " [340.      26.5     31.1     12.3778   4.6961]\n",
      " [363.      29.      33.5     12.73     4.4555]\n",
      " [430.      29.      34.      12.444    5.134 ]]\n"
     ]
    }
   ],
   "source": [
    "print(fish_input[:5])"
   ]
  },
  {
   "cell_type": "code",
   "execution_count": 6,
   "id": "8dc51246",
   "metadata": {},
   "outputs": [],
   "source": [
    "fish_target = fish['Species'].to_numpy()"
   ]
  },
  {
   "cell_type": "code",
   "execution_count": 7,
   "id": "a27c4db2",
   "metadata": {},
   "outputs": [
    {
     "data": {
      "text/plain": [
       "array(['Bream', 'Bream', 'Bream', 'Bream', 'Bream', 'Bream', 'Bream',\n",
       "       'Bream', 'Bream', 'Bream', 'Bream', 'Bream', 'Bream', 'Bream',\n",
       "       'Bream', 'Bream', 'Bream', 'Bream', 'Bream', 'Bream', 'Bream',\n",
       "       'Bream', 'Bream', 'Bream', 'Bream', 'Bream', 'Bream', 'Bream',\n",
       "       'Bream', 'Bream', 'Bream', 'Bream', 'Bream', 'Bream', 'Bream',\n",
       "       'Roach', 'Roach', 'Roach', 'Roach', 'Roach', 'Roach', 'Roach',\n",
       "       'Roach', 'Roach', 'Roach', 'Roach', 'Roach', 'Roach', 'Roach',\n",
       "       'Roach', 'Roach', 'Roach', 'Roach', 'Roach', 'Roach', 'Whitefish',\n",
       "       'Whitefish', 'Whitefish', 'Whitefish', 'Whitefish', 'Whitefish',\n",
       "       'Parkki', 'Parkki', 'Parkki', 'Parkki', 'Parkki', 'Parkki',\n",
       "       'Parkki', 'Parkki', 'Parkki', 'Parkki', 'Parkki', 'Perch', 'Perch',\n",
       "       'Perch', 'Perch', 'Perch', 'Perch', 'Perch', 'Perch', 'Perch',\n",
       "       'Perch', 'Perch', 'Perch', 'Perch', 'Perch', 'Perch', 'Perch',\n",
       "       'Perch', 'Perch', 'Perch', 'Perch', 'Perch', 'Perch', 'Perch',\n",
       "       'Perch', 'Perch', 'Perch', 'Perch', 'Perch', 'Perch', 'Perch',\n",
       "       'Perch', 'Perch', 'Perch', 'Perch', 'Perch', 'Perch', 'Perch',\n",
       "       'Perch', 'Perch', 'Perch', 'Perch', 'Perch', 'Perch', 'Perch',\n",
       "       'Perch', 'Perch', 'Perch', 'Perch', 'Perch', 'Perch', 'Perch',\n",
       "       'Perch', 'Perch', 'Perch', 'Perch', 'Perch', 'Pike', 'Pike',\n",
       "       'Pike', 'Pike', 'Pike', 'Pike', 'Pike', 'Pike', 'Pike', 'Pike',\n",
       "       'Pike', 'Pike', 'Pike', 'Pike', 'Pike', 'Pike', 'Pike', 'Smelt',\n",
       "       'Smelt', 'Smelt', 'Smelt', 'Smelt', 'Smelt', 'Smelt', 'Smelt',\n",
       "       'Smelt', 'Smelt', 'Smelt', 'Smelt', 'Smelt', 'Smelt'], dtype=object)"
      ]
     },
     "execution_count": 7,
     "metadata": {},
     "output_type": "execute_result"
    }
   ],
   "source": [
    "fish_target"
   ]
  },
  {
   "cell_type": "code",
   "execution_count": 8,
   "id": "0ed81bda",
   "metadata": {},
   "outputs": [],
   "source": [
    "# default = 75(trainset) : 25(testset)\n",
    "from sklearn.model_selection import train_test_split\n",
    "\n",
    "train_input, test_input, train_target, test_target = train_test_split(\n",
    "fish_input, fish_target, random_state = 42)"
   ]
  },
  {
   "cell_type": "code",
   "execution_count": 9,
   "id": "e85006c2",
   "metadata": {},
   "outputs": [
    {
     "name": "stdout",
     "output_type": "stream",
     "text": [
      "[[ 9.19657820e-01  6.09431747e-01  8.10412209e-01  1.85194896e+00\n",
      "   1.00075672e+00]\n",
      " [ 3.00412188e-01  1.54653445e+00  1.45316551e+00 -4.69816625e-01\n",
      "   2.72917446e-01]\n",
      " [-1.08585360e+00 -1.68646987e+00 -1.70848587e+00 -1.70159849e+00\n",
      "  -2.00447580e+00]\n",
      " [-7.97341433e-01 -6.08801762e-01 -6.74869070e-01 -8.24805885e-01\n",
      "  -2.76314705e-01]\n",
      " [-7.12898847e-01 -7.30625113e-01 -7.00926637e-01 -8.02298036e-02\n",
      "  -7.03386897e-01]\n",
      " [-9.12746301e-01 -9.64900787e-01 -9.52816444e-01 -8.80171862e-01\n",
      "  -9.91535662e-01]\n",
      " [-7.97341433e-01 -7.02512032e-01 -7.61727625e-01 -7.82824547e-01\n",
      "  -5.44530184e-01]\n",
      " [ 6.38182533e-01  5.62576612e-01  7.32239510e-01  1.64473401e+00\n",
      "   5.07057367e-01]\n",
      " [-7.41046376e-01 -6.74398951e-01 -7.35670058e-01 -6.12059278e-01\n",
      "  -5.57331377e-01]\n",
      " [-8.67710255e-01 -7.96222301e-01 -8.92015456e-01 -9.33586942e-01\n",
      "  -1.02183182e+00]\n",
      " [ 8.21141469e-01  7.49997152e-01  6.71438522e-01  4.98470601e-01\n",
      "   1.47257213e+00]\n",
      " [ 3.00412188e-01  2.34590667e-01  4.28234570e-01  1.36042157e+00\n",
      "   2.23297582e-01]\n",
      " [ 3.39818728e-01  4.03269153e-01  2.37145751e-01  2.88316959e-01\n",
      "   9.56866916e-01]\n",
      " [-5.44013674e-01 -5.15091492e-01 -4.75094395e-01  3.66303469e-01\n",
      "  -4.78329727e-01]\n",
      " [ 1.70778862e+00  1.45282418e+00  1.33156354e+00  8.95515284e-01\n",
      "   1.91866324e+00]\n",
      " [ 9.02769303e-01  7.03142017e-01  8.88584908e-01  1.89027545e+00\n",
      "   8.55371741e-01]\n",
      " [-1.08247590e+00 -1.61150165e+00 -1.62162731e+00 -1.70006740e+00\n",
      "  -1.92815631e+00]\n",
      " [ 1.70778862e+00  1.35911391e+00  1.20996156e+00  7.58211612e-01\n",
      "   1.72445085e+00]\n",
      " [-7.97341433e-01 -7.21254086e-01 -7.09612492e-01 -6.65474358e-01\n",
      "  -6.41636379e-01]\n",
      " [ 1.03379487e-01  4.71701274e-02  2.37145751e-01  8.84451967e-01\n",
      "   4.17997636e-01]\n",
      " [ 1.76563061e-01  1.31225877e+00  1.23601913e+00 -3.90792929e-01\n",
      "  -7.66770476e-02]\n",
      " [ 1.49668216e+00  1.03112796e+00  1.21864741e+00  2.44274986e+00\n",
      "   1.40289707e+00]\n",
      " [ 1.56705098e+00  2.17439325e+00  2.06986125e+00  1.57345974e-02\n",
      "   1.05025467e+00]\n",
      " [-4.03276031e-01 -9.33952774e-02 -2.05832877e-01 -3.90101472e-01\n",
      "   7.18777527e-02]\n",
      " [-6.28456261e-01 -7.30625113e-01 -7.00926637e-01  1.31751261e-01\n",
      "  -6.32675543e-01]\n",
      " [ 2.30043366e-01  2.34590667e-01  4.28234570e-01  1.33360290e+00\n",
      "   3.99832133e-01]\n",
      " [-6.98825082e-01 -5.43204573e-01 -6.14068082e-01 -7.18444929e-01\n",
      "  -4.98811636e-01]\n",
      " [-2.62538387e-01  8.24965367e-01  7.40925366e-01 -6.35667608e-01\n",
      "  -2.61197105e-01]\n",
      " [-4.25794054e-01 -2.90186844e-01 -1.10288467e-01  6.56271044e-01\n",
      "  -2.61075189e-01]\n",
      " [ 7.22625119e-01  9.84272826e-01  8.79899053e-01  5.61590778e-01\n",
      "   9.47723207e-01]\n",
      " [-7.69193904e-01 -8.89932571e-01 -8.65957890e-01 -1.16136195e-01\n",
      "  -9.32772089e-01]\n",
      " [-6.98825082e-01 -6.08801762e-01 -6.05382227e-01 -5.50346711e-01\n",
      "  -5.48919164e-01]\n",
      " [-7.55120140e-01 -7.02512032e-01 -7.61727625e-01 -7.82824547e-01\n",
      "  -4.75952362e-01]\n",
      " [ 1.28557569e+00  7.03142017e-01  8.97270764e-01  1.98228866e+00\n",
      "   1.06683526e+00]\n",
      " [-1.10696425e+00 -7.49367167e-01 -7.35670058e-01 -5.89537525e-01\n",
      "  -6.68518884e-01]\n",
      " [ 1.25742816e+00  6.09431747e-01  5.23778980e-01  6.48467454e-01\n",
      "   2.04051841e+00]\n",
      " [ 9.33731584e-01  6.09431747e-01  8.36469776e-01  1.85150445e+00\n",
      "   9.78324154e-01]\n",
      " [ 8.07067705e-01  6.09431747e-01  8.10412209e-01  1.63137406e+00\n",
      "   1.02550570e+00]\n",
      " [ 8.35215234e-01  7.96852286e-01  6.97496089e-01  4.22089260e-01\n",
      "   1.16936672e+00]\n",
      " [-8.81784019e-01 -8.89932571e-01 -9.61502300e-01 -7.96826558e-01\n",
      "  -8.52246487e-01]\n",
      " [-7.69193904e-01 -7.96222301e-01 -7.87785191e-01 -6.53546719e-01\n",
      "  -5.32826236e-01]\n",
      " [ 3.39664035e+00  2.95218849e+00  2.84290238e+00  1.82128867e-01\n",
      "   1.03367408e+00]\n",
      " [-3.61054738e-01 -9.33952774e-02 -2.05832877e-01 -4.47196092e-01\n",
      "  -6.90572897e-02]\n",
      " [-1.07262426e+00 -1.52716241e+00 -1.55214047e+00 -1.67235972e+00\n",
      "  -1.86207776e+00]\n",
      " [-1.35874508e-01  9.37417691e-01  8.45155631e-01 -6.09095890e-01\n",
      "  -2.87287156e-01]\n",
      " [-6.56603789e-01 -5.61946627e-01 -5.44581239e-01 -6.08108094e-01\n",
      "  -3.95182929e-01]\n",
      " [ 1.28557569e+00  1.07798310e+00  9.58071752e-01  7.57174426e-01\n",
      "   1.62033448e+00]\n",
      " [-9.52152841e-01 -1.29288673e+00 -1.28287895e+00 -4.97598394e-01\n",
      "  -1.29339999e+00]\n",
      " [-1.01689216e+00 -1.38659700e+00 -1.43922435e+00 -1.31734577e+00\n",
      "  -1.49291573e+00]\n",
      " [ 1.63741980e+00  1.17169337e+00  1.27076255e+00  2.41341232e+00\n",
      "   1.40143407e+00]\n",
      " [-2.06243329e-01  1.40880397e-01  2.86852201e-02 -3.07916828e-01\n",
      "   1.97085615e-01]\n",
      " [-1.07966115e+00 -1.63961473e+00 -1.67374245e+00 -1.64628190e+00\n",
      "  -1.87036806e+00]\n",
      " [ 1.98926391e+00  1.26540364e+00  1.15784643e+00  9.72415218e-01\n",
      "   1.47525429e+00]\n",
      " [-9.38079077e-01 -1.21791852e+00 -1.20470625e+00 -5.64348722e-01\n",
      "  -1.30089783e+00]\n",
      " [-1.05151362e+00 -1.33037084e+00 -1.39579507e+00 -1.47914678e+00\n",
      "  -1.45146425e+00]\n",
      " [-6.98825082e-01 -4.21381222e-01 -5.01151962e-01 -6.14281820e-01\n",
      "  -3.79943413e-01]\n",
      " [-5.52457933e-01 -2.71444790e-01 -3.70864130e-01 -5.68349296e-01\n",
      "  -1.27577031e-01]\n",
      " [-3.41351467e-01 -1.40250412e-01 -5.81733343e-02 -7.27225524e-02\n",
      "   1.98304776e-01]\n",
      " [ 1.59674544e-01  1.12767316e-01  2.97946739e-01  1.17051775e+00\n",
      "   2.92058277e-01]\n",
      " [ 8.63362763e-01  7.96852286e-01  7.06181944e-01  4.87110945e-01\n",
      "   1.10718950e+00]\n",
      " [ 1.20113311e+00  1.07798310e+00  9.75443463e-01  5.61195660e-01\n",
      "   1.32993026e+00]\n",
      " [-6.53789036e-01 -4.77607384e-01 -3.96921696e-01 -4.80855248e-01\n",
      "  -4.98080139e-01]\n",
      " [-9.94374134e-01 -1.34911289e+00 -1.30893652e+00 -1.16443491e+00\n",
      "  -1.32906046e+00]\n",
      " [-8.67710255e-01 -8.33706409e-01 -9.09387167e-01 -9.19856575e-01\n",
      "  -8.60414868e-01]\n",
      " [-8.25488962e-01 -9.83642841e-01 -1.04836085e+00 -8.98915295e-01\n",
      "  -6.86806303e-01]\n",
      " [ 1.56705098e+00  1.17169337e+00  1.32287768e+00  2.16352457e+00\n",
      "   1.17174409e+00]\n",
      " [-7.12898847e-01 -5.61946627e-01 -5.44581239e-01 -5.71065736e-01\n",
      "  -6.84733729e-01]\n",
      " [-9.21062831e-03  1.40880397e-01  3.24004305e-01  9.40262452e-01\n",
      "   1.47343835e-01]\n",
      " [-6.84751318e-01 -6.08801762e-01 -5.70638805e-01 -7.55166253e-01\n",
      "  -4.22979805e-01]\n",
      " [-3.38536715e-01 -3.27670952e-01 -2.84005576e-01  5.49589054e-01\n",
      "  -1.85487191e-01]\n",
      " [ 1.42631334e+00  1.07798310e+00  9.75443463e-01  7.08130345e-01\n",
      "   1.69263074e+00]\n",
      " [ 4.58038349e-01  5.62576612e-01  4.54292136e-01  3.44250919e-01\n",
      "   1.18210696e+00]\n",
      " [-7.41046376e-01 -5.61946627e-01 -6.31439793e-01 -7.42448377e-01\n",
      "  -5.02469120e-01]\n",
      " [-7.83267669e-01 -7.02512032e-01 -7.61727625e-01 -7.27261010e-01\n",
      "  -6.95401390e-01]\n",
      " [ 3.25590271e+00  2.95218849e+00  2.84290238e+00  1.82128867e-01\n",
      "   1.03367408e+00]\n",
      " [ 3.53737799e+00  3.27080341e+00  3.19033660e+00  4.81431116e-01\n",
      "   1.84807380e+00]\n",
      " [-7.26972611e-01 -6.08801762e-01 -6.74869070e-01 -7.37756345e-01\n",
      "  -5.62817603e-01]\n",
      " [ 1.59674544e-01  1.40880397e-01  3.32690160e-01  1.26991474e+00\n",
      "   2.41097337e-01]\n",
      " [ 8.63362763e-01  7.03142017e-01  6.10637534e-01  4.31325154e-01\n",
      "   1.39747180e+00]\n",
      " [-1.49948272e-01  3.28300937e-01  5.23778980e-01  1.24719543e+00\n",
      "   3.80691302e-01]\n",
      " [ 1.14483805e+00  7.40626125e-01  7.23553655e-01  7.15835155e-01\n",
      "   1.29554992e+00]\n",
      " [ 4.13002303e-01  1.35911391e+00  1.26207669e+00 -2.65836710e-01\n",
      "   4.15315481e-01]\n",
      " [-8.52089559e-02  4.71701274e-02  1.93716473e-01  9.55079395e-01\n",
      "   4.39717660e-03]\n",
      " [ 8.63362763e-01  4.22011207e-01  6.28009245e-01  1.50034290e+00\n",
      "   4.56706006e-01]\n",
      " [-8.62080749e-01 -8.14964355e-01 -7.87785191e-01 -8.01567980e-01\n",
      "  -7.76414657e-01]\n",
      " [-1.09035721e+00 -1.88326143e+00 -1.95168982e+00 -1.66702562e+00\n",
      "  -1.85329980e+00]\n",
      " [ 1.06039546e+00  1.82766526e+00  1.73111289e+00 -2.92013309e-01\n",
      "   5.65516150e-01]\n",
      " [ 3.00412188e-01  1.12767316e-01  2.80575028e-01  1.31303204e+00\n",
      "   5.06082038e-01]\n",
      " [ 1.03379487e-01  8.90562556e-01  8.01726354e-01 -3.88323439e-01\n",
      "   7.81564332e-02]\n",
      " [-8.53636490e-01 -1.01175592e+00 -9.96245722e-01 -3.59874908e-01\n",
      "  -1.08218030e+00]\n",
      " [-9.21062831e-03  3.00187856e-01  3.24004305e-01  1.53729727e-01\n",
      "   5.52714956e-01]\n",
      " [-2.62538387e-01  1.90570465e-02 -1.01602612e-01 -3.15424079e-01\n",
      "   1.14060733e-01]\n",
      " [-5.44013674e-01 -4.68236357e-01 -3.88235841e-01 -3.61949280e-01\n",
      "  -1.95728145e-01]\n",
      " [-1.07262426e+00 -1.45219419e+00 -1.51739705e+00 -1.62627903e+00\n",
      "  -1.94607798e+00]\n",
      " [ 4.13002303e-01  2.34590667e-01  2.37145751e-01  4.64638581e-01\n",
      "   1.28847878e+00]\n",
      " [-6.31271013e-01 -4.21381222e-01 -3.53492419e-01 -3.27969091e-01\n",
      "  -3.73725690e-01]\n",
      " [-7.41046376e-01 -6.08801762e-01 -6.74869070e-01 -6.79723318e-01\n",
      "  -5.62817603e-01]\n",
      " [ 8.21141469e-01  5.15721477e-01  6.88810233e-01  1.76102232e+00\n",
      "   5.62102498e-01]\n",
      " [-2.45649870e-01 -4.65401424e-02 -4.08016234e-02 -2.08632519e-02\n",
      "   1.42223358e-01]\n",
      " [-1.07937967e+00 -1.54590446e+00 -1.56951218e+00 -1.64420753e+00\n",
      "  -2.01154694e+00]\n",
      " [-2.62538387e-01  5.15721477e-01  5.67208257e-01 -7.79046226e-01\n",
      "  -1.76953062e-01]\n",
      " [-8.87413525e-01 -9.08674625e-01 -8.74643745e-01 -8.11692891e-01\n",
      "  -9.41123344e-01]\n",
      " [-1.07937967e+00 -1.62087268e+00 -1.63899902e+00 -1.67413775e+00\n",
      "  -1.93303295e+00]\n",
      " [-2.90685916e-01 -2.05847601e-01 -6.05820169e-03  8.93342132e-01\n",
      "  -8.69789603e-02]\n",
      " [-2.90685916e-01 -2.33960682e-01 -1.79775310e-01  3.53531430e-03\n",
      "   2.95728568e-02]\n",
      " [-2.62538387e-01  6.09431747e-01  6.54066812e-01 -7.22593673e-01\n",
      "  -3.89440064e-02]\n",
      " [-3.75128502e-01 -9.33952774e-02 -2.05832877e-01 -4.18648782e-01\n",
      "  -6.90572897e-02]\n",
      " [-6.00308732e-01 -3.27670952e-01 -4.14293407e-01 -5.98353606e-01\n",
      "  -4.66199072e-01]\n",
      " [ 1.42631334e+00  9.84272826e-01  8.79899053e-01  5.61590778e-01\n",
      "   1.85624218e+00]\n",
      " [-7.69193904e-01 -6.08801762e-01 -6.74869070e-01 -7.95789372e-01\n",
      "  -5.62817603e-01]\n",
      " [-9.94374134e-01 -1.26477365e+00 -1.32630823e+00 -1.24424885e+00\n",
      "  -1.22908923e+00]\n",
      " [ 1.75000992e+00  1.07798310e+00  9.66757607e-01  8.68844787e-01\n",
      "   1.83734518e+00]\n",
      " [-1.05095067e+00 -1.26477365e+00 -1.30893652e+00 -1.46447801e+00\n",
      "  -1.56606541e+00]\n",
      " [ 5.11518653e-01  5.15721477e-01  7.14867800e-01  1.54738669e+00\n",
      "   6.83470002e-01]\n",
      " [-2.62538387e-01 -2.33960682e-01 -1.97147021e-01  6.18734788e-01\n",
      "  -1.30624934e-01]\n",
      " [-4.03276031e-01 -4.65401424e-02 -1.62403600e-01 -2.57341662e-01\n",
      "  -1.48790437e-01]\n",
      " [ 5.81887475e-01  3.28300937e-01  5.15093125e-01  1.50439286e+00\n",
      "   4.40430204e-01]\n",
      " [-6.84751318e-01 -5.61946627e-01 -6.31439793e-01 -5.11304066e-01\n",
      "  -5.02469120e-01]\n",
      " [-2.62538387e-01 -1.12137331e-01 -2.23204588e-01 -1.33225070e-01\n",
      "   4.20009252e-01]]\n",
      "[[-0.88741352 -0.91804565 -1.03098914 -0.90464451 -0.80762518]\n",
      " [-1.06924656 -1.50842035 -1.54345461 -1.58849582 -1.93803151]\n",
      " [-0.54401367  0.35641402  0.30663259 -0.8135697  -0.65388895]\n",
      " [-0.34698097 -0.23396068 -0.22320459 -0.11905019 -0.12233464]\n",
      " [-0.68475132 -0.51509149 -0.58801052 -0.8998784  -0.50124996]\n",
      " [ 1.70778862  0.79685229  0.98412932  2.49283113  1.31347159]\n",
      " [-1.08726098 -1.67709884 -1.70848587 -1.76175528 -2.01154694]\n",
      " [-0.60030873 -0.3089289  -0.29269143 -0.43855288 -0.33056738]\n",
      " [-0.57779071 -0.36515506 -0.44035097 -0.52577528 -0.17219833]\n",
      " [ 2.41147684  2.57734741  2.4694106   0.45038962  1.54627043]\n",
      " [ 0.72262512  0.46886634  0.64538096  1.38570915  0.7798447 ]\n",
      " [ 1.70778862  1.0779831   1.06230202  0.86222655  1.2659243 ]\n",
      " [ 0.58188748  0.32830094  0.51509312  1.62381742  0.6898706 ]\n",
      " [-0.68475132 -0.7962223  -0.77041348  0.0074865  -0.70436223]\n",
      " [ 0.86336276  0.60943175  0.80172635  1.82199404  0.69535682]\n",
      " [ 1.48260839  0.93741769  1.11441715  2.26561331  1.13260901]\n",
      " [ 1.70778862  1.40596904  1.2794484   0.92396381  2.25161618]\n",
      " [-0.49334812 -0.18710555 -0.28400558 -0.41845122 -0.18548719]\n",
      " [-0.47364485 -0.42138122 -0.50115196 -0.38758259 -0.44212064]\n",
      " [ 0.86336276  0.42201121  0.61063753  1.48117965  0.51028814]\n",
      " [-1.07881672 -1.56464651 -1.57819804 -1.64186151 -1.92900972]\n",
      " [ 0.610035    0.46886634  0.6366951   1.67197249  0.41787572]\n",
      " [ 0.30041219  0.2814458   0.44560628  1.20923936 -0.04894113]\n",
      " [ 0.30041219  0.20647759  0.42823457  1.32466334  0.31156486]\n",
      " [ 1.58112475  0.93741769  1.10573129  2.27724461  1.12389201]\n",
      " [ 1.98926391  1.35911391  1.23601913  0.90136798  1.80936543]\n",
      " [-0.62845626 -0.46823636 -0.54458124 -0.63897672 -0.44090148]\n",
      " [-0.34698097 -0.18710555 -0.17108946 -0.17708322 -0.12178601]\n",
      " [-1.0881054  -1.75206705 -1.77797271 -1.75918701 -2.07299266]\n",
      " [-1.0790982  -1.56464651 -1.57819804 -1.64186151 -2.00087927]\n",
      " [ 0.32855972  1.31225877  1.23601913 -0.50315475  0.00653071]\n",
      " [-0.90993155 -1.039869   -1.10916184 -1.05557977 -0.9185079 ]\n",
      " [-0.96200448 -1.15232133 -1.22207796 -1.0544932  -1.10741694]\n",
      " [ 0.48900063  1.64024472  1.5139665  -0.26435502  0.25706835]\n",
      " [-0.14994827 -0.18710555 -0.01474406  0.86810394  0.15106228]\n",
      " [-0.7691939  -0.60880176 -0.67486907 -0.67972332 -0.63444333]\n",
      " [-0.65660379 -0.56194663 -0.51852367 -0.45169057 -0.38280844]\n",
      " [-0.7691939  -0.70251203 -0.65749736 -0.67858735 -0.70344785]\n",
      " [-0.69882508 -0.6556569  -0.62275394  0.21581272 -0.78708232]\n",
      " [ 1.20113311  0.98427283  0.8712132   0.88131571  1.76968173]]\n"
     ]
    }
   ],
   "source": [
    "from sklearn.preprocessing import StandardScaler\n",
    "ss = StandardScaler()\n",
    "ss.fit(train_input)\n",
    "train_scaled = ss.transform(train_input)\n",
    "test_scaled = ss.transform(test_input)\n",
    "print(train_scaled)\n",
    "print(test_scaled)"
   ]
  },
  {
   "cell_type": "markdown",
   "id": "8ef0a57b",
   "metadata": {},
   "source": [
    "## k- 최근접 이웃 분류기의 확률 예측"
   ]
  },
  {
   "cell_type": "code",
   "execution_count": 10,
   "id": "12eda625",
   "metadata": {},
   "outputs": [
    {
     "name": "stdout",
     "output_type": "stream",
     "text": [
      "0.8907563025210085\n",
      "0.85\n"
     ]
    }
   ],
   "source": [
    "from sklearn.neighbors import KNeighborsClassifier\n",
    "\n",
    "kn = KNeighborsClassifier(n_neighbors = 3)\n",
    "kn.fit(train_scaled, train_target)\n",
    "\n",
    "print(kn.score(train_scaled, train_target))\n",
    "print(kn.score(test_scaled, test_target))"
   ]
  },
  {
   "cell_type": "code",
   "execution_count": 11,
   "id": "48e47094",
   "metadata": {},
   "outputs": [
    {
     "name": "stdout",
     "output_type": "stream",
     "text": [
      "['Bream' 'Parkki' 'Perch' 'Pike' 'Roach' 'Smelt' 'Whitefish']\n"
     ]
    }
   ],
   "source": [
    "#알파벳 순\n",
    "print(kn.classes_)"
   ]
  },
  {
   "cell_type": "code",
   "execution_count": 17,
   "id": "216f2e4b",
   "metadata": {},
   "outputs": [
    {
     "name": "stdout",
     "output_type": "stream",
     "text": [
      "['Perch' 'Smelt' 'Pike' 'Perch' 'Perch']\n"
     ]
    }
   ],
   "source": [
    "print(kn.predict(test_scaled[:5]))"
   ]
  },
  {
   "cell_type": "code",
   "execution_count": 18,
   "id": "79046e7e",
   "metadata": {},
   "outputs": [
    {
     "name": "stdout",
     "output_type": "stream",
     "text": [
      "[[0.     0.     1.     0.     0.     0.     0.    ]\n",
      " [0.     0.     0.     0.     0.     1.     0.    ]\n",
      " [0.     0.     0.     1.     0.     0.     0.    ]\n",
      " [0.     0.     0.6667 0.     0.3333 0.     0.    ]\n",
      " [0.     0.     0.6667 0.     0.3333 0.     0.    ]]\n"
     ]
    }
   ],
   "source": [
    "import numpy as np\n",
    "proba = kn.predict_proba(test_scaled[:5])\n",
    "print(np.round(proba, decimals = 4))     #5개의 클래스"
   ]
  },
  {
   "cell_type": "code",
   "execution_count": 19,
   "id": "1ff92f10",
   "metadata": {},
   "outputs": [
    {
     "name": "stdout",
     "output_type": "stream",
     "text": [
      "[['Roach' 'Perch' 'Perch']]\n"
     ]
    }
   ],
   "source": [
    "# 이웃 3개 중에서 Perch = 2/3, Roach = 1/3\n",
    "distances, indexes = kn.kneighbors(test_scaled[3:4])\n",
    "print(train_target[indexes])"
   ]
  },
  {
   "cell_type": "markdown",
   "id": "69d4a13b",
   "metadata": {},
   "source": [
    "## 로지스틱 회귀\n",
    "* 시그모이드 함수(=로지스틱 함수) 이용\n",
    "* 이름이 로지스틱 회귀 이지만 회귀가 아니라 분류 알고리즘이다. \n",
    "* 이진 분류 (0.5이상이면 양성클래스, 이하면 음성클래스)"
   ]
  },
  {
   "cell_type": "code",
   "execution_count": 22,
   "id": "664dbc48",
   "metadata": {},
   "outputs": [
    {
     "data": {
      "image/png": "[encoded data removed]",
      "text/plain": [
       "<Figure size 640x480 with 1 Axes>"
      ]
     },
     "metadata": {},
     "output_type": "display_data"
    }
   ],
   "source": [
    "import numpy as np\n",
    "import matplotlib.pyplot as plt\n",
    "\n",
    "z = np.arange(-5, 5, 0.1)\n",
    "phi = 1/(1+np.exp(-z))\n",
    "\n",
    "plt.plot(z, phi)\n",
    "plt.xlabel('z')\n",
    "plt.ylabel('phi')\n",
    "plt.title('sigmoid function')\n",
    "plt.show()"
   ]
  },
  {
   "cell_type": "markdown",
   "id": "0d89ca4a",
   "metadata": {},
   "source": [
    "## 로지스틱 회귀로 이진 분류 수행하기"
   ]
  },
  {
   "cell_type": "code",
   "execution_count": 24,
   "id": "ae92b098",
   "metadata": {},
   "outputs": [
    {
     "name": "stdout",
     "output_type": "stream",
     "text": [
      "['A' 'C']\n"
     ]
    }
   ],
   "source": [
    "char_arr = np.array(['A', 'B', 'C', 'D', 'E'])\n",
    "print(char_arr[[True, False, True, False, False]])"
   ]
  },
  {
   "cell_type": "code",
   "execution_count": 31,
   "id": "9891741d",
   "metadata": {
    "collapsed": true
   },
   "outputs": [
    {
     "name": "stdout",
     "output_type": "stream",
     "text": [
      "[[ 0.91965782  0.60943175  0.81041221  1.85194896  1.00075672]\n",
      " [-1.0858536  -1.68646987 -1.70848587 -1.70159849 -2.0044758 ]\n",
      " [ 0.63818253  0.56257661  0.73223951  1.64473401  0.50705737]\n",
      " [ 0.30041219  0.23459067  0.42823457  1.36042157  0.22329758]\n",
      " [ 0.9027693   0.70314202  0.88858491  1.89027545  0.85537174]\n",
      " [-1.0824759  -1.61150165 -1.62162731 -1.7000674  -1.92815631]\n",
      " [ 0.10337949  0.04717013  0.23714575  0.88445197  0.41799764]\n",
      " [ 1.49668216  1.03112796  1.21864741  2.44274986  1.40289707]\n",
      " [ 0.23004337  0.23459067  0.42823457  1.3336029   0.39983213]\n",
      " [-0.42579405 -0.29018684 -0.11028847  0.65627104 -0.26107519]\n",
      " [ 1.28557569  0.70314202  0.89727076  1.98228866  1.06683526]\n",
      " [ 0.93373158  0.60943175  0.83646978  1.85150445  0.97832415]\n",
      " [ 0.80706771  0.60943175  0.81041221  1.63137406  1.0255057 ]\n",
      " [-1.07262426 -1.52716241 -1.55214047 -1.67235972 -1.86207776]\n",
      " [ 1.6374198   1.17169337  1.27076255  2.41341232  1.40143407]\n",
      " [-1.07966115 -1.63961473 -1.67374245 -1.6462819  -1.87036806]\n",
      " [-1.05151362 -1.33037084 -1.39579507 -1.47914678 -1.45146425]\n",
      " [ 0.15967454  0.11276732  0.29794674  1.17051775  0.29205828]\n",
      " [ 1.56705098  1.17169337  1.32287768  2.16352457  1.17174409]\n",
      " [-0.00921063  0.1408804   0.3240043   0.94026245  0.14734384]\n",
      " [ 0.15967454  0.1408804   0.33269016  1.26991474  0.24109734]\n",
      " [-0.14994827  0.32830094  0.52377898  1.24719543  0.3806913 ]\n",
      " [-0.08520896  0.04717013  0.19371647  0.95507939  0.00439718]\n",
      " [ 0.86336276  0.42201121  0.62800925  1.5003429   0.45670601]\n",
      " [ 0.30041219  0.11276732  0.28057503  1.31303204  0.50608204]\n",
      " [-1.07262426 -1.45219419 -1.51739705 -1.62627903 -1.94607798]\n",
      " [ 0.82114147  0.51572148  0.68881023  1.76102232  0.5621025 ]\n",
      " [-1.07937967 -1.54590446 -1.56951218 -1.64420753 -2.01154694]\n",
      " [-1.07937967 -1.62087268 -1.63899902 -1.67413775 -1.93303295]\n",
      " [-0.29068592 -0.2058476  -0.0060582   0.89334213 -0.08697896]\n",
      " [-1.05095067 -1.26477365 -1.30893652 -1.46447801 -1.56606541]\n",
      " [ 0.51151865  0.51572148  0.7148678   1.54738669  0.68347   ]\n",
      " [ 0.58188748  0.32830094  0.51509312  1.50439286  0.4404302 ]]\n",
      "['Bream' 'Smelt' 'Bream' 'Bream' 'Bream' 'Smelt' 'Bream' 'Bream' 'Bream'\n",
      " 'Bream' 'Bream' 'Bream' 'Bream' 'Smelt' 'Bream' 'Smelt' 'Smelt' 'Bream'\n",
      " 'Bream' 'Bream' 'Bream' 'Bream' 'Bream' 'Bream' 'Bream' 'Smelt' 'Bream'\n",
      " 'Smelt' 'Smelt' 'Bream' 'Smelt' 'Bream' 'Bream']\n"
     ]
    }
   ],
   "source": [
    "bream_smelt_indexes = (train_target == 'Bream') | (train_target == 'Smelt')\n",
    "train_bream_smelt = train_scaled[bream_smelt_indexes]\n",
    "target_bream_smelt = train_target[bream_smelt_indexes]\n",
    "print(train_bream_smelt)\n",
    "print(target_bream_smelt)"
   ]
  },
  {
   "cell_type": "code",
   "execution_count": 30,
   "id": "2177dac5",
   "metadata": {},
   "outputs": [
    {
     "data": {
      "text/html": [
       "<style>#sk-container-id-2 {color: black;background-color: white;}#sk-container-id-2 pre{padding: 0;}#sk-container-id-2 div.sk-toggleable {background-color: white;}#sk-container-id-2 label.sk-toggleable__label {cursor: pointer;display: block;width: 100%;margin-bottom: 0;padding: 0.3em;box-sizing: border-box;text-align: center;}#sk-container-id-2 label.sk-toggleable__label-arrow:before {content: \"▸\";float: left;margin-right: 0.25em;color: #696969;}#sk-container-id-2 label.sk-toggleable__label-arrow:hover:before {color: black;}#sk-container-id-2 div.sk-estimator:hover label.sk-toggleable__label-arrow:before {color: black;}#sk-container-id-2 div.sk-toggleable__content {max-height: 0;max-width: 0;overflow: hidden;text-align: left;background-color: #f0f8ff;}#sk-container-id-2 div.sk-toggleable__content pre {margin: 0.2em;color: black;border-radius: 0.25em;background-color: #f0f8ff;}#sk-container-id-2 input.sk-toggleable__control:checked~div.sk-toggleable__content {max-height: 200px;max-width: 100%;overflow: auto;}#sk-container-id-2 input.sk-toggleable__control:checked~label.sk-toggleable__label-arrow:before {content: \"▾\";}#sk-container-id-2 div.sk-estimator input.sk-toggleable__control:checked~label.sk-toggleable__label {background-color: #d4ebff;}#sk-container-id-2 div.sk-label input.sk-toggleable__control:checked~label.sk-toggleable__label {background-color: #d4ebff;}#sk-container-id-2 input.sk-hidden--visually {border: 0;clip: rect(1px 1px 1px 1px);clip: rect(1px, 1px, 1px, 1px);height: 1px;margin: -1px;overflow: hidden;padding: 0;position: absolute;width: 1px;}#sk-container-id-2 div.sk-estimator {font-family: monospace;background-color: #f0f8ff;border: 1px dotted black;border-radius: 0.25em;box-sizing: border-box;margin-bottom: 0.5em;}#sk-container-id-2 div.sk-estimator:hover {background-color: #d4ebff;}#sk-container-id-2 div.sk-parallel-item::after {content: \"\";width: 100%;border-bottom: 1px solid gray;flex-grow: 1;}#sk-container-id-2 div.sk-label:hover label.sk-toggleable__label {background-color: #d4ebff;}#sk-container-id-2 div.sk-serial::before {content: \"\";position: absolute;border-left: 1px solid gray;box-sizing: border-box;top: 0;bottom: 0;left: 50%;z-index: 0;}#sk-container-id-2 div.sk-serial {display: flex;flex-direction: column;align-items: center;background-color: white;padding-right: 0.2em;padding-left: 0.2em;position: relative;}#sk-container-id-2 div.sk-item {position: relative;z-index: 1;}#sk-container-id-2 div.sk-parallel {display: flex;align-items: stretch;justify-content: center;background-color: white;position: relative;}#sk-container-id-2 div.sk-item::before, #sk-container-id-2 div.sk-parallel-item::before {content: \"\";position: absolute;border-left: 1px solid gray;box-sizing: border-box;top: 0;bottom: 0;left: 50%;z-index: -1;}#sk-container-id-2 div.sk-parallel-item {display: flex;flex-direction: column;z-index: 1;position: relative;background-color: white;}#sk-container-id-2 div.sk-parallel-item:first-child::after {align-self: flex-end;width: 50%;}#sk-container-id-2 div.sk-parallel-item:last-child::after {align-self: flex-start;width: 50%;}#sk-container-id-2 div.sk-parallel-item:only-child::after {width: 0;}#sk-container-id-2 div.sk-dashed-wrapped {border: 1px dashed gray;margin: 0 0.4em 0.5em 0.4em;box-sizing: border-box;padding-bottom: 0.4em;background-color: white;}#sk-container-id-2 div.sk-label label {font-family: monospace;font-weight: bold;display: inline-block;line-height: 1.2em;}#sk-container-id-2 div.sk-label-container {text-align: center;}#sk-container-id-2 div.sk-container {/* jupyter's `normalize.less` sets `[hidden] { display: none; }` but bootstrap.min.css set `[hidden] { display: none !important; }` so we also need the `!important` here to be able to override the default hidden behavior on the sphinx rendered scikit-learn.org. See: https://github.com/scikit-learn/scikit-learn/issues/21755 */display: inline-block !important;position: relative;}#sk-container-id-2 div.sk-text-repr-fallback {display: none;}</style><div id=\"sk-container-id-2\" class=\"sk-top-container\"><div class=\"sk-text-repr-fallback\"><pre>LogisticRegression()</pre><b>In a Jupyter environment, please rerun this cell to show the HTML representation or trust the notebook. <br />On GitHub, the HTML representation is unable to render, please try loading this page with nbviewer.org.</b></div><div class=\"sk-container\" hidden><div class=\"sk-item\"><div class=\"sk-estimator sk-toggleable\"><input class=\"sk-toggleable__control sk-hidden--visually\" id=\"sk-estimator-id-2\" type=\"checkbox\" checked><label for=\"sk-estimator-id-2\" class=\"sk-toggleable__label sk-toggleable__label-arrow\">LogisticRegression</label><div class=\"sk-toggleable__content\"><pre>LogisticRegression()</pre></div></div></div></div></div>"
      ],
      "text/plain": [
       "LogisticRegression()"
      ]
     },
     "execution_count": 30,
     "metadata": {},
     "output_type": "execute_result"
    }
   ],
   "source": [
    "# LogisticRegression : 분류\n",
    "from sklearn.linear_model import LogisticRegression\n",
    "\n",
    "lr = LogisticRegression()\n",
    "lr.fit(train_bream_smelt, target_bream_smelt)"
   ]
  },
  {
   "cell_type": "code",
   "execution_count": 33,
   "id": "ce3e86bf",
   "metadata": {},
   "outputs": [
    {
     "name": "stdout",
     "output_type": "stream",
     "text": [
      "['Bream' 'Smelt' 'Bream' 'Bream' 'Bream']\n"
     ]
    }
   ],
   "source": [
    "print(lr.predict(train_bream_smelt[:5]))"
   ]
  },
  {
   "cell_type": "code",
   "execution_count": 34,
   "id": "9091a31e",
   "metadata": {},
   "outputs": [
    {
     "name": "stdout",
     "output_type": "stream",
     "text": [
      "[[0.99759855 0.00240145]\n",
      " [0.02735183 0.97264817]\n",
      " [0.99486072 0.00513928]\n",
      " [0.98584202 0.01415798]\n",
      " [0.99767269 0.00232731]]\n"
     ]
    }
   ],
   "source": [
    "print(lr.predict_proba(train_bream_smelt[:5]))"
   ]
  },
  {
   "cell_type": "code",
   "execution_count": 35,
   "id": "e6b4fdc6",
   "metadata": {},
   "outputs": [
    {
     "name": "stdout",
     "output_type": "stream",
     "text": [
      "['Bream' 'Smelt']\n"
     ]
    }
   ],
   "source": [
    "print(lr.classes_)"
   ]
  },
  {
   "cell_type": "code",
   "execution_count": 36,
   "id": "650e4c87",
   "metadata": {},
   "outputs": [
    {
     "name": "stdout",
     "output_type": "stream",
     "text": [
      "[[-0.4037798  -0.57620209 -0.66280298 -1.01290277 -0.73168947]] [-2.16155132]\n"
     ]
    }
   ],
   "source": [
    "# -0.4037798*무게  -0.57620209*길이 -0.66280298*대각선 -1.01290277*높이 -0.73168947*두께\n",
    "# -2.16155132\n",
    "print(lr.coef_, lr.intercept_)"
   ]
  },
  {
   "cell_type": "code",
   "execution_count": 37,
   "id": "6fef73c6",
   "metadata": {},
   "outputs": [
    {
     "name": "stdout",
     "output_type": "stream",
     "text": [
      "[-6.02927744  3.57123907 -5.26568906 -4.24321775 -6.0607117 ]\n"
     ]
    }
   ],
   "source": [
    "# 로지스틱 회귀는 decision_function을 통해 z 값을 출력\n",
    "# decision_function 은 z 값 도출\n",
    "decisions = lr.decision_function(train_bream_smelt[:5])\n",
    "print(decisions)    # decisions 는 sigmoid값"
   ]
  },
  {
   "cell_type": "code",
   "execution_count": 41,
   "id": "4c824c12",
   "metadata": {},
   "outputs": [
    {
     "name": "stdout",
     "output_type": "stream",
     "text": [
      "[0.00240145 0.97264817 0.00513928 0.01415798 0.00232731]\n"
     ]
    }
   ],
   "source": [
    "# expit ==> z값을 sigmoid 확률값으로\n",
    "from scipy.special import expit\n",
    "print(expit(decisions))"
   ]
  },
  {
   "cell_type": "markdown",
   "id": "9a1c9f31",
   "metadata": {},
   "source": [
    "### 소프트맥스 함수\n",
    "* 출력을 모두 합한 값은 항상 1\n",
    "* softmax function의 수식\n",
    "* 시그모이드 함수는 하나의 선형 방정식의 출력값을 0\\~1 사이로 압축합니다. 이와 달리 소프트맥스 함수는 여러 개의 선형 방정식의 출력값을 0\\~1 사이로 압축하고 전체 합이 1이 되도록 만듭니다. 이를 위해 지수함수를 이용하기 때문에 정규화된 지수함수 라고도 부릅니다. \n",
    "* **다중분류일 때는 시그모이드 사용하면 안됩니다. 소프트맥스 함수를 사용해야 합니다.**"
   ]
  },
  {
   "cell_type": "markdown",
   "id": "73bee8ec",
   "metadata": {},
   "source": [
    "## 로지스틱회귀로 다중 분류 수행하기"
   ]
  },
  {
   "cell_type": "code",
   "execution_count": 42,
   "id": "c82516e5",
   "metadata": {},
   "outputs": [
    {
     "name": "stdout",
     "output_type": "stream",
     "text": [
      "0.9327731092436975\n",
      "0.925\n"
     ]
    }
   ],
   "source": [
    "lr = LogisticRegression(C = 20, max_iter = 1000)  #max_iter 기본값은 100\n",
    "lr.fit(train_scaled, train_target)\n",
    "print(lr.score(train_scaled, train_target))\n",
    "print(lr.score(test_scaled, test_target))"
   ]
  },
  {
   "cell_type": "code",
   "execution_count": 43,
   "id": "89532896",
   "metadata": {},
   "outputs": [
    {
     "name": "stdout",
     "output_type": "stream",
     "text": [
      "['Perch' 'Smelt' 'Pike' 'Roach' 'Perch']\n"
     ]
    }
   ],
   "source": [
    "print(lr.predict(test_scaled[:5]))"
   ]
  },
  {
   "cell_type": "code",
   "execution_count": 44,
   "id": "65dccc79",
   "metadata": {},
   "outputs": [
    {
     "name": "stdout",
     "output_type": "stream",
     "text": [
      "['Bream' 'Parkki' 'Perch' 'Pike' 'Roach' 'Smelt' 'Whitefish']\n"
     ]
    }
   ],
   "source": [
    "print(kn.classes_)"
   ]
  },
  {
   "cell_type": "code",
   "execution_count": 45,
   "id": "149e0028",
   "metadata": {},
   "outputs": [
    {
     "name": "stdout",
     "output_type": "stream",
     "text": [
      "[[0.    0.014 0.841 0.    0.136 0.007 0.003]\n",
      " [0.    0.003 0.044 0.    0.007 0.946 0.   ]\n",
      " [0.    0.    0.034 0.935 0.015 0.016 0.   ]\n",
      " [0.011 0.034 0.306 0.007 0.567 0.    0.076]\n",
      " [0.    0.    0.904 0.002 0.089 0.002 0.001]]\n"
     ]
    }
   ],
   "source": [
    "proba = lr.predict_proba(test_scaled[:5])\n",
    "print(np.round(proba, decimals = 3))"
   ]
  },
  {
   "cell_type": "code",
   "execution_count": 46,
   "id": "641b6616",
   "metadata": {},
   "outputs": [
    {
     "name": "stdout",
     "output_type": "stream",
     "text": [
      "['Bream' 'Parkki' 'Perch' 'Pike' 'Roach' 'Smelt' 'Whitefish']\n"
     ]
    }
   ],
   "source": [
    "print(lr.classes_)"
   ]
  },
  {
   "cell_type": "code",
   "execution_count": 48,
   "id": "2be81810",
   "metadata": {},
   "outputs": [
    {
     "name": "stdout",
     "output_type": "stream",
     "text": [
      "(7, 5) (7,)\n"
     ]
    }
   ],
   "source": [
    "print(lr.coef_.shape, lr.intercept_.shape)"
   ]
  },
  {
   "cell_type": "code",
   "execution_count": 50,
   "id": "01c3236f",
   "metadata": {},
   "outputs": [
    {
     "name": "stdout",
     "output_type": "stream",
     "text": [
      "[[ -6.5    1.03   5.16  -2.73   3.34   0.33  -0.63]\n",
      " [-10.86   1.93   4.77  -2.4    2.98   7.84  -4.26]\n",
      " [ -4.34  -6.23   3.17   6.49   2.36   2.42  -3.87]\n",
      " [ -0.68   0.45   2.65  -1.19   3.26  -5.75   1.26]\n",
      " [ -6.4   -1.99   5.82  -0.11   3.5   -0.11  -0.71]]\n"
     ]
    }
   ],
   "source": [
    "decision = lr.decision_function(test_scaled[:5])\n",
    "print(np.round(decision, decimals = 2))"
   ]
  },
  {
   "cell_type": "code",
   "execution_count": 52,
   "id": "79abf23c",
   "metadata": {},
   "outputs": [
    {
     "name": "stdout",
     "output_type": "stream",
     "text": [
      "[[0.    0.014 0.841 0.    0.136 0.007 0.003]\n",
      " [0.    0.003 0.044 0.    0.007 0.946 0.   ]\n",
      " [0.    0.    0.034 0.935 0.015 0.016 0.   ]\n",
      " [0.011 0.034 0.306 0.007 0.567 0.    0.076]\n",
      " [0.    0.    0.904 0.002 0.089 0.002 0.001]]\n"
     ]
    }
   ],
   "source": [
    "# 다중분류일 때는 시그모이드 사용하면 안됩니다. \n",
    "# 소프트맥스 함수를 사용해야 합니다.\n",
    "\n",
    "from scipy.special import softmax\n",
    "proba = softmax(decision, axis = 1)\n",
    "print(np.round(proba, decimals = 3))"
   ]
  },
  {
   "cell_type": "code",
   "execution_count": null,
   "id": "e0ccec08",
   "metadata": {},
   "outputs": [],
   "source": []
  }
 ],
 "metadata": {
  "kernelspec": {
   "display_name": "Python 3 (ipykernel)",
   "language": "python",
   "name": "python3"
  },
  "language_info": {
   "codemirror_mode": {
    "name": "ipython",
    "version": 3
   },
   "file_extension": ".py",
   "mimetype": "text/x-python",
   "name": "python",
   "nbconvert_exporter": "python",
   "pygments_lexer": "ipython3",
   "version": "3.9.16"
  }
 },
 "nbformat": 4,
 "nbformat_minor": 5
}
