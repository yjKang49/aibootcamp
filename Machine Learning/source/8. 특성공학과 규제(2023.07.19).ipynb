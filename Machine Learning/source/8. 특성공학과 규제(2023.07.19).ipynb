{
 "cells": [
  {
   "cell_type": "markdown",
   "id": "d6c38f94",
   "metadata": {},
   "source": [
    "# 특성 공학과 규제"
   ]
  },
  {
   "cell_type": "markdown",
   "id": "2e6ad8dd",
   "metadata": {},
   "source": [
    "## 데이터 준비"
   ]
  },
  {
   "cell_type": "code",
   "execution_count": 1,
   "id": "3d454117",
   "metadata": {},
   "outputs": [],
   "source": [
    "import pandas as pd"
   ]
  },
  {
   "cell_type": "code",
   "execution_count": 2,
   "id": "a96c3004",
   "metadata": {
    "collapsed": true
   },
   "outputs": [
    {
     "name": "stdout",
     "output_type": "stream",
     "text": [
      "[[ 8.4   2.11  1.41]\n",
      " [13.7   3.53  2.  ]\n",
      " [15.    3.82  2.43]\n",
      " [16.2   4.59  2.63]\n",
      " [17.4   4.59  2.94]\n",
      " [18.    5.22  3.32]\n",
      " [18.7   5.2   3.12]\n",
      " [19.    5.64  3.05]\n",
      " [19.6   5.14  3.04]\n",
      " [20.    5.08  2.77]\n",
      " [21.    5.69  3.56]\n",
      " [21.    5.92  3.31]\n",
      " [21.    5.69  3.67]\n",
      " [21.3   6.38  3.53]\n",
      " [22.    6.11  3.41]\n",
      " [22.    5.64  3.52]\n",
      " [22.    6.11  3.52]\n",
      " [22.    5.88  3.52]\n",
      " [22.    5.52  4.  ]\n",
      " [22.5   5.86  3.62]\n",
      " [22.5   6.79  3.62]\n",
      " [22.7   5.95  3.63]\n",
      " [23.    5.22  3.63]\n",
      " [23.5   6.28  3.72]\n",
      " [24.    7.29  3.72]\n",
      " [24.    6.38  3.82]\n",
      " [24.6   6.73  4.17]\n",
      " [25.    6.44  3.68]\n",
      " [25.6   6.56  4.24]\n",
      " [26.5   7.17  4.14]\n",
      " [27.3   8.32  5.14]\n",
      " [27.5   7.17  4.34]\n",
      " [27.5   7.05  4.34]\n",
      " [27.5   7.28  4.57]\n",
      " [28.    7.82  4.2 ]\n",
      " [28.7   7.59  4.64]\n",
      " [30.    7.62  4.77]\n",
      " [32.8  10.03  6.02]\n",
      " [34.5  10.26  6.39]\n",
      " [35.   11.49  7.8 ]\n",
      " [36.5  10.88  6.86]\n",
      " [36.   10.61  6.74]\n",
      " [37.   10.84  6.26]\n",
      " [37.   10.57  6.37]\n",
      " [39.   11.14  7.49]\n",
      " [39.   11.14  6.  ]\n",
      " [39.   12.43  7.35]\n",
      " [40.   11.93  7.11]\n",
      " [40.   11.73  7.22]\n",
      " [40.   12.38  7.46]\n",
      " [40.   11.14  6.63]\n",
      " [42.   12.8   6.87]\n",
      " [43.   11.93  7.28]\n",
      " [43.   12.51  7.42]\n",
      " [43.5  12.6   8.14]\n",
      " [44.   12.49  7.6 ]]\n"
     ]
    }
   ],
   "source": [
    "# 길이, 높이 두께\n",
    "df = pd.read_csv('https://bit.ly/perch_csv_data')\n",
    "perch_full=df.to_numpy()\n",
    "print(perch_full)"
   ]
  },
  {
   "cell_type": "code",
   "execution_count": 3,
   "id": "b9f09ed8",
   "metadata": {},
   "outputs": [],
   "source": [
    "import numpy as np\n",
    "perch_weight = np.array(\n",
    "    [5.9, 32.0, 40.0, 51.5, 70.0, 100.0, 78.0, 80.0, 85.0, 85.0,\n",
    "     110.0, 115.0, 125.0, 130.0, 120.0, 120.0, 130.0, 135.0, 110.0,\n",
    "     130.0, 150.0, 145.0, 150.0, 170.0, 225.0, 145.0, 188.0, 180.0,\n",
    "     197.0, 218.0, 300.0, 260.0, 265.0, 250.0, 250.0, 300.0, 320.0,\n",
    "     514.0, 556.0, 840.0, 685.0, 700.0, 700.0, 690.0, 900.0, 650.0,\n",
    "     820.0, 850.0, 900.0, 1015.0, 820.0, 1100.0, 1000.0, 1100.0,\n",
    "     1000.0, 1000.0]\n",
    "     )"
   ]
  },
  {
   "cell_type": "code",
   "execution_count": 6,
   "id": "35519476",
   "metadata": {},
   "outputs": [],
   "source": [
    "from sklearn.model_selection import train_test_split\n",
    "\n",
    "train_input, test_input, train_target, test_target = \\\n",
    "train_test_split(perch_full, perch_weight, random_state = 42 )     \n",
    "# random_state 는 실무에서 쓸 필요가 없음. 교재와 일치된 결과를 내기 위해서 추가한 것"
   ]
  },
  {
   "cell_type": "markdown",
   "id": "e0ebfa0d",
   "metadata": {},
   "source": [
    "## 사이킷런의 변환기"
   ]
  },
  {
   "cell_type": "code",
   "execution_count": 9,
   "id": "db37768a",
   "metadata": {},
   "outputs": [],
   "source": [
    "from sklearn.preprocessing import PolynomialFeatures"
   ]
  },
  {
   "cell_type": "code",
   "execution_count": 10,
   "id": "00a891a4",
   "metadata": {},
   "outputs": [
    {
     "name": "stdout",
     "output_type": "stream",
     "text": [
      "[[1. 2. 3. 4. 6. 9.]]\n"
     ]
    }
   ],
   "source": [
    "# polynomialFeatures 이해를 위한 코드\n",
    "\n",
    "# degree = 2\n",
    "poly = PolynomialFeatures()\n",
    "poly.fit([[2,3]])\n",
    "\n",
    "# 1(bias), 2, 3, 2**2, 2*3, 3**3\n",
    "print(poly.transform([[2,3]]))"
   ]
  },
  {
   "cell_type": "code",
   "execution_count": 11,
   "id": "e47c500a",
   "metadata": {},
   "outputs": [
    {
     "name": "stdout",
     "output_type": "stream",
     "text": [
      "[[2. 3. 4. 6. 9.]]\n"
     ]
    }
   ],
   "source": [
    "poly = PolynomialFeatures(include_bias = False)\n",
    "poly.fit([[2,3]])\n",
    "print(poly.transform([[2,3]]))"
   ]
  },
  {
   "cell_type": "code",
   "execution_count": 13,
   "id": "0f4bbdd8",
   "metadata": {},
   "outputs": [],
   "source": [
    "poly = PolynomialFeatures(include_bias = False)     #특성을 자동으로 만들어 줌\n",
    "poly.fit(train_input)    # 길이, 높이, 두께의 특성을 훈련시킴. \n",
    "train_poly = poly.transform(train_input)"
   ]
  },
  {
   "cell_type": "code",
   "execution_count": 14,
   "id": "9d967a62",
   "metadata": {
    "scrolled": true
   },
   "outputs": [
    {
     "name": "stdout",
     "output_type": "stream",
     "text": [
      "(42, 9)\n"
     ]
    }
   ],
   "source": [
    "print(train_poly.shape)     #물고기는 42마리, 특성이 9개"
   ]
  },
  {
   "cell_type": "code",
   "execution_count": 15,
   "id": "d84e991f",
   "metadata": {},
   "outputs": [
    {
     "data": {
      "text/plain": [
       "array(['x0', 'x1', 'x2', 'x0^2', 'x0 x1', 'x0 x2', 'x1^2', 'x1 x2',\n",
       "       'x2^2'], dtype=object)"
      ]
     },
     "execution_count": 15,
     "metadata": {},
     "output_type": "execute_result"
    }
   ],
   "source": [
    "poly.get_feature_names_out()"
   ]
  },
  {
   "cell_type": "code",
   "execution_count": 17,
   "id": "b6f0fc54",
   "metadata": {
    "collapsed": true
   },
   "outputs": [
    {
     "data": {
      "text/plain": [
       "array([[8.400000e+00, 2.110000e+00, 1.410000e+00, 7.056000e+01,\n",
       "        1.772400e+01, 1.184400e+01, 4.452100e+00, 2.975100e+00,\n",
       "        1.988100e+00],\n",
       "       [1.800000e+01, 5.220000e+00, 3.320000e+00, 3.240000e+02,\n",
       "        9.396000e+01, 5.976000e+01, 2.724840e+01, 1.733040e+01,\n",
       "        1.102240e+01],\n",
       "       [2.750000e+01, 7.280000e+00, 4.570000e+00, 7.562500e+02,\n",
       "        2.002000e+02, 1.256750e+02, 5.299840e+01, 3.326960e+01,\n",
       "        2.088490e+01],\n",
       "       [2.130000e+01, 6.380000e+00, 3.530000e+00, 4.536900e+02,\n",
       "        1.358940e+02, 7.518900e+01, 4.070440e+01, 2.252140e+01,\n",
       "        1.246090e+01],\n",
       "       [2.250000e+01, 5.860000e+00, 3.620000e+00, 5.062500e+02,\n",
       "        1.318500e+02, 8.145000e+01, 3.433960e+01, 2.121320e+01,\n",
       "        1.310440e+01],\n",
       "       [4.000000e+01, 1.114000e+01, 6.630000e+00, 1.600000e+03,\n",
       "        4.456000e+02, 2.652000e+02, 1.240996e+02, 7.385820e+01,\n",
       "        4.395690e+01],\n",
       "       [3.000000e+01, 7.620000e+00, 4.770000e+00, 9.000000e+02,\n",
       "        2.286000e+02, 1.431000e+02, 5.806440e+01, 3.634740e+01,\n",
       "        2.275290e+01],\n",
       "       [2.460000e+01, 6.730000e+00, 4.170000e+00, 6.051600e+02,\n",
       "        1.655580e+02, 1.025820e+02, 4.529290e+01, 2.806410e+01,\n",
       "        1.738890e+01],\n",
       "       [3.900000e+01, 1.114000e+01, 7.490000e+00, 1.521000e+03,\n",
       "        4.344600e+02, 2.921100e+02, 1.240996e+02, 8.343860e+01,\n",
       "        5.610010e+01],\n",
       "       [2.100000e+01, 5.690000e+00, 3.670000e+00, 4.410000e+02,\n",
       "        1.194900e+02, 7.707000e+01, 3.237610e+01, 2.088230e+01,\n",
       "        1.346890e+01],\n",
       "       [4.350000e+01, 1.260000e+01, 8.140000e+00, 1.892250e+03,\n",
       "        5.481000e+02, 3.540900e+02, 1.587600e+02, 1.025640e+02,\n",
       "        6.625960e+01],\n",
       "       [1.620000e+01, 4.590000e+00, 2.630000e+00, 2.624400e+02,\n",
       "        7.435800e+01, 4.260600e+01, 2.106810e+01, 1.207170e+01,\n",
       "        6.916900e+00],\n",
       "       [2.800000e+01, 7.820000e+00, 4.200000e+00, 7.840000e+02,\n",
       "        2.189600e+02, 1.176000e+02, 6.115240e+01, 3.284400e+01,\n",
       "        1.764000e+01],\n",
       "       [2.730000e+01, 8.320000e+00, 5.140000e+00, 7.452900e+02,\n",
       "        2.271360e+02, 1.403220e+02, 6.922240e+01, 4.276480e+01,\n",
       "        2.641960e+01]])"
      ]
     },
     "execution_count": 17,
     "metadata": {},
     "output_type": "execute_result"
    }
   ],
   "source": [
    "test_poly = poly.transform(test_input)     # test_input은 테스트셋이니까 fit() 훈련하지 않음\n",
    "test_poly"
   ]
  },
  {
   "cell_type": "markdown",
   "id": "da1fe03d",
   "metadata": {},
   "source": [
    "## 다중 회귀 모델 훈련하기"
   ]
  },
  {
   "cell_type": "code",
   "execution_count": 21,
   "id": "3ea68e1a",
   "metadata": {},
   "outputs": [
    {
     "name": "stdout",
     "output_type": "stream",
     "text": [
      "0.9903183436982125\n"
     ]
    }
   ],
   "source": [
    "from sklearn.linear_model import LinearRegression\n",
    "lr = LinearRegression()\n",
    "lr.fit(train_poly, train_target)\n",
    "print(lr.score(train_poly, train_target))"
   ]
  },
  {
   "cell_type": "code",
   "execution_count": 24,
   "id": "12ca3547",
   "metadata": {},
   "outputs": [
    {
     "name": "stdout",
     "output_type": "stream",
     "text": [
      "0.9714559911594152\n"
     ]
    }
   ],
   "source": [
    "print(lr.score(test_poly, test_target))"
   ]
  },
  {
   "cell_type": "code",
   "execution_count": 25,
   "id": "b8e82775",
   "metadata": {},
   "outputs": [],
   "source": [
    "# 특성 추가 degree = 5\n",
    "poly = PolynomialFeatures(degree = 5, include_bias = False)\n",
    "\n",
    "poly.fit(train_input)\n",
    "train_poly = poly.transform(train_input)\n",
    "test_poly = poly.transform(test_input)"
   ]
  },
  {
   "cell_type": "code",
   "execution_count": 26,
   "id": "0862e495",
   "metadata": {},
   "outputs": [
    {
     "name": "stdout",
     "output_type": "stream",
     "text": [
      "(42, 55)\n"
     ]
    }
   ],
   "source": [
    "# 특성이 55개로 늘어남. (9개였는데 degree=5로 하니까)\n",
    "print(train_poly.shape)"
   ]
  },
  {
   "cell_type": "code",
   "execution_count": 28,
   "id": "d601d965",
   "metadata": {},
   "outputs": [
    {
     "name": "stdout",
     "output_type": "stream",
     "text": [
      "0.9999999999938117\n"
     ]
    }
   ],
   "source": [
    "lr.fit(train_poly, train_target)\n",
    "print(lr.score(train_poly, train_target))"
   ]
  },
  {
   "cell_type": "code",
   "execution_count": 29,
   "id": "163450c2",
   "metadata": {},
   "outputs": [
    {
     "name": "stdout",
     "output_type": "stream",
     "text": [
      "-144.40744536742076\n"
     ]
    }
   ],
   "source": [
    "print(lr.score(test_poly, test_target))"
   ]
  },
  {
   "cell_type": "markdown",
   "id": "b2ee82dc",
   "metadata": {},
   "source": [
    "## 규제\n",
    "* 가중치(기울기) 작게\n",
    "* 가중치가 높을수록 벌칙을 준다. \n",
    "* 규제 전에 표준화-특성의 스케일이 비슷해야한다. (이전에 배웠던 표준점수)"
   ]
  },
  {
   "cell_type": "code",
   "execution_count": 31,
   "id": "16abf9a2",
   "metadata": {},
   "outputs": [],
   "source": [
    "from sklearn.preprocessing import StandardScaler\n",
    "\n",
    "ss = StandardScaler()\n",
    "ss.fit(train_poly)\n",
    "\n",
    "train_scaled = ss.transform(train_poly)\n",
    "test_scaled = ss.transform(test_poly)"
   ]
  },
  {
   "cell_type": "markdown",
   "id": "128e95a2",
   "metadata": {},
   "source": [
    "## 릿지(Ridge)\n",
    "* 계수를 제곱한 값을 기준으로 규제를 적용\n",
    "* 규제가 있는 선형 회귀 모델 중 하나\n",
    "* 선형 모델의 계수를 작게 만들어 과대적합을 완화시킨다. \n",
    "* 릿지는 비교적 효과가 좋아 널리 사용하는 규제방법(L2 규제)\n",
    "* alpha값이 클수록 규제가 세진다. (기본값은 1)"
   ]
  },
  {
   "cell_type": "code",
   "execution_count": 33,
   "id": "0304a1b4",
   "metadata": {},
   "outputs": [
    {
     "name": "stdout",
     "output_type": "stream",
     "text": [
      "0.9896101671037343\n"
     ]
    }
   ],
   "source": [
    "# 릿지 회귀는 입력 특성의 스케일에 민감하기 때문에 수행하기 전에 데이터의 스케일을 맞추는 것이 중요하다. \n",
    "# 예를 들면 StandardScaler를 사용해서\n",
    "from sklearn.linear_model import Ridge\n",
    "\n",
    "ridge = Ridge()\n",
    "ridge.fit(train_scaled, train_target)\n",
    "print(ridge.score(train_scaled, train_target))"
   ]
  },
  {
   "cell_type": "code",
   "execution_count": 34,
   "id": "1b491e72",
   "metadata": {},
   "outputs": [
    {
     "name": "stdout",
     "output_type": "stream",
     "text": [
      "0.9790693977615383\n"
     ]
    }
   ],
   "source": [
    "print(ridge.score(test_scaled, test_target))"
   ]
  },
  {
   "cell_type": "code",
   "execution_count": 42,
   "id": "fb6a8860",
   "metadata": {},
   "outputs": [],
   "source": [
    "import matplotlib.pyplot as plt\n",
    "train_score = []\n",
    "test_score = []"
   ]
  },
  {
   "cell_type": "code",
   "execution_count": 43,
   "id": "4585d813",
   "metadata": {},
   "outputs": [],
   "source": [
    "alpha_list = [0.001, 0.01, 0.1, 1, 10, 100]\n",
    "for alpha in alpha_list:\n",
    "    #릿지 모델을 만듭니다\n",
    "    ridge = Ridge(alpha = alpha)\n",
    "    #릿지 모델ㅇ르 훈련합니다. \n",
    "    ridge.fit(train_scaled, train_target)\n",
    "    #훈련점수와 테스트 점수를 저장합니다. \n",
    "    train_score.append(ridge.score(train_scaled, train_target))\n",
    "    test_score.append(ridge.score(test_scaled,test_target))"
   ]
  },
  {
   "cell_type": "code",
   "execution_count": 53,
   "id": "c78e9df6",
   "metadata": {},
   "outputs": [
    {
     "data": {
      "image/png": "[encoded data removed]",
      "text/plain": [
       "<Figure size 640x480 with 1 Axes>"
      ]
     },
     "metadata": {},
     "output_type": "display_data"
    }
   ],
   "source": [
    "plt.plot(np.log10(alpha_list), train_score)    #훈련세트 그래프\n",
    "plt.plot(np.log10(alpha_list), test_score)     # 테스트세트 그래프\n",
    "plt.xlabel('alpha')\n",
    "plt.ylabel('R^2')\n",
    "plt.title('overfitting<------------------------------------>underfitting')\n",
    "plt.show()"
   ]
  },
  {
   "cell_type": "code",
   "execution_count": 54,
   "id": "8c663d33",
   "metadata": {},
   "outputs": [
    {
     "name": "stdout",
     "output_type": "stream",
     "text": [
      "0.9903815817570368\n",
      "0.9827976465387013\n"
     ]
    }
   ],
   "source": [
    "ridge = Ridge(alpha = 0.1)\n",
    "ridge.fit(train_scaled, train_target)\n",
    "print(ridge.score(train_scaled, train_target))\n",
    "print(ridge.score(test_scaled, test_target))"
   ]
  },
  {
   "cell_type": "markdown",
   "id": "57f91d5e",
   "metadata": {},
   "source": [
    "## 라쏘(Lasso)\n",
    "* 또 다른 규제(L1)가 있는 선형 모델\n",
    "* 릿지와 달리 계수값을 아예 0으로 만들 수 있다. \n",
    "* Max_iter는 알고리즘의 수행 반복 횟수를 지정.(기본값은 1000)"
   ]
  },
  {
   "cell_type": "code",
   "execution_count": 57,
   "id": "176d3f03",
   "metadata": {},
   "outputs": [
    {
     "name": "stdout",
     "output_type": "stream",
     "text": [
      "0.989789897208096\n"
     ]
    }
   ],
   "source": [
    "from sklearn.linear_model import Lasso\n",
    "lasso = Lasso()\n",
    "lasso.fit(train_scaled, train_target)\n",
    "print(lasso.score(train_scaled, train_target))"
   ]
  },
  {
   "cell_type": "code",
   "execution_count": 58,
   "id": "21a8b661",
   "metadata": {},
   "outputs": [
    {
     "name": "stdout",
     "output_type": "stream",
     "text": [
      "0.9800593698421884\n"
     ]
    }
   ],
   "source": [
    "print(lasso.score(test_scaled, test_target))"
   ]
  },
  {
   "cell_type": "code",
   "execution_count": 60,
   "id": "43ba8b23",
   "metadata": {},
   "outputs": [
    {
     "name": "stderr",
     "output_type": "stream",
     "text": [
      "C:\\Users\\lenovo\\anaconda3\\lib\\site-packages\\sklearn\\linear_model\\_coordinate_descent.py:631: ConvergenceWarning: Objective did not converge. You might want to increase the number of iterations, check the scale of the features or consider increasing regularisation. Duality gap: 1.878e+04, tolerance: 5.183e+02\n",
      "  model = cd_fast.enet_coordinate_descent(\n",
      "C:\\Users\\lenovo\\anaconda3\\lib\\site-packages\\sklearn\\linear_model\\_coordinate_descent.py:631: ConvergenceWarning: Objective did not converge. You might want to increase the number of iterations, check the scale of the features or consider increasing regularisation. Duality gap: 1.297e+04, tolerance: 5.183e+02\n",
      "  model = cd_fast.enet_coordinate_descent(\n"
     ]
    }
   ],
   "source": [
    "train_score = []\n",
    "test_score = []\n",
    "alpha_list = [0.001, 0.01, 0.1, 1, 10, 100]\n",
    "for alpha in alpha_list: \n",
    "    # 라쏘 모델을 만듭니다. \n",
    "    lasso = Lasso(alpha = alpha, max_iter = 10000)\n",
    "    # 라쏘 모델을 훈련합니다. \n",
    "    lasso.fit(train_scaled, train_target)\n",
    "    # 훈련 점수와 테스트 점수를 저장합니다. \n",
    "    train_score.append(lasso.score(train_scaled, train_target))\n",
    "    test_score.append(lasso.score(test_scaled, test_target))"
   ]
  },
  {
   "cell_type": "code",
   "execution_count": 61,
   "id": "b6d23608",
   "metadata": {},
   "outputs": [
    {
     "data": {
      "image/png": "[encoded data removed]",
      "text/plain": [
       "<Figure size 640x480 with 1 Axes>"
      ]
     },
     "metadata": {},
     "output_type": "display_data"
    }
   ],
   "source": [
    "plt.plot(np.log10(alpha_list), train_score)\n",
    "plt.plot(np.log10(alpha_list), test_score)\n",
    "plt.xlabel('alpha')\n",
    "plt.ylabel('R^2')\n",
    "plt.show()"
   ]
  },
  {
   "cell_type": "code",
   "execution_count": 62,
   "id": "025a8fdf",
   "metadata": {},
   "outputs": [
    {
     "name": "stdout",
     "output_type": "stream",
     "text": [
      "0.9888067471131867\n",
      "0.9824470598706695\n"
     ]
    }
   ],
   "source": [
    "lasso = Lasso(alpha = 10)\n",
    "lasso.fit(train_scaled, train_target)\n",
    "\n",
    "print(lasso.score(train_scaled, train_target))\n",
    "print(lasso.score(test_scaled, test_target))"
   ]
  },
  {
   "cell_type": "code",
   "execution_count": 63,
   "id": "6557519b",
   "metadata": {},
   "outputs": [
    {
     "name": "stdout",
     "output_type": "stream",
     "text": [
      "40\n"
     ]
    }
   ],
   "source": [
    "# 일부 특성을 아예 사용하지 않을수도 있다. \n",
    "print(np.sum(lasso.coef_ == 0))     # 55개의 특성을 모델에 주입했지만 라쏘 모델이 사용한 특성은 15개. 사용하지 않은 특성이 40개이다. "
   ]
  },
  {
   "cell_type": "code",
   "execution_count": null,
   "id": "b21e845f",
   "metadata": {},
   "outputs": [],
   "source": []
  }
 ],
 "metadata": {
  "kernelspec": {
   "display_name": "Python 3 (ipykernel)",
   "language": "python",
   "name": "python3"
  },
  "language_info": {
   "codemirror_mode": {
    "name": "ipython",
    "version": 3
   },
   "file_extension": ".py",
   "mimetype": "text/x-python",
   "name": "python",
   "nbconvert_exporter": "python",
   "pygments_lexer": "ipython3",
   "version": "3.9.16"
  }
 },
 "nbformat": 4,
 "nbformat_minor": 5
}
