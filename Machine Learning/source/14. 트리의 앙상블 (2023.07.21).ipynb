{
 "cells": [
  {
   "cell_type": "markdown",
   "id": "9fadea2a",
   "metadata": {},
   "source": [
    "# 트리의 앙상블"
   ]
  },
  {
   "cell_type": "markdown",
   "id": "674a7daf",
   "metadata": {},
   "source": [
    "\n",
    "* 랜덤포레스트 - RandomForestClassifier, randomForestRegression\n",
    "* 앙상블\n",
    "    * 단일 모델의 약점을 다수의 모델들을 결합하여 보완\n",
    "    * 뛰어난 성능을 가진 모델들로만 구성하는 것보다 성능이 떨어지더라도 서로 다른 유형의 모델을 섞는 것이 오히려 전체 성능이 도움이 될 수 있음. \n",
    "    * 랜덤 포레스트 및 뛰어난 부스팅 알고리즘들은 모두 결정트리 알고리즘을 기반 알고리즘으로 사용. \n",
    "    * 앙상블의 유형은 일반적으로 보팅(voting(,배깅(bagging), 부스팅(voosting)으로 구분할 수 있으며, 이외에 스태킹 등의 기법이 있다. \n"
   ]
  },
  {
   "cell_type": "markdown",
   "id": "ebf5b619",
   "metadata": {},
   "source": [
    "## 정형 데이터와 비정형 데이터\n",
    "* 정형데이터(ML): 엑셀, csv\n",
    "* 비정형데이터(DL): 텍스트, 이미지, 영상, 음성"
   ]
  },
  {
   "cell_type": "markdown",
   "id": "98a7f01e",
   "metadata": {},
   "source": [
    "## 랜덤 포레스트\n",
    "### 랜덤포레스트 특징\n",
    "**1) 부스팅-중복된 데이터를 허용**\n",
    "\n",
    "**2) 랜덤 셀렉션과 피쳐-질문이 랜덤, 가장 좋은 질문이 아닐 수 있다.**\n",
    "\n",
    "**3) 투표**"
   ]
  },
  {
   "cell_type": "code",
   "execution_count": 2,
   "id": "3152f202",
   "metadata": {},
   "outputs": [],
   "source": [
    "import numpy as np\n",
    "import pandas as pd\n",
    "from sklearn.model_selection import train_test_split\n",
    "\n",
    "wine = pd.read_csv('https://bit.ly/wine_csv_data')\n",
    "data = wine[['alcohol', 'sugar', 'pH']].to_numpy()\n",
    "target = wine['class'].to_numpy()\n",
    "\n",
    "train_input, test_input, train_target, test_target = train_test_split(data, target, test_size = 0.2, random_state = 42)"
   ]
  },
  {
   "cell_type": "code",
   "execution_count": 31,
   "id": "3f96e171",
   "metadata": {},
   "outputs": [
    {
     "data": {
      "text/plain": [
       "(5197, 3)"
      ]
     },
     "execution_count": 31,
     "metadata": {},
     "output_type": "execute_result"
    }
   ],
   "source": [
    "train_input.shape"
   ]
  },
  {
   "cell_type": "code",
   "execution_count": 5,
   "id": "60bc567b",
   "metadata": {},
   "outputs": [
    {
     "name": "stdout",
     "output_type": "stream",
     "text": [
      "0.9973541965122431 0.8905151032797809\n"
     ]
    }
   ],
   "source": [
    "# return_train_score = True 검증 점수뿐 아니라 훈련세트에 대한 점수도 같이 반환한다. \n",
    "from sklearn.model_selection import cross_validate\n",
    "from sklearn.ensemble import RandomForestClassifier\n",
    "rf = RandomForestClassifier(n_jobs = -1, random_state = 42)\n",
    "scores = cross_validate(rf, train_input, train_target, return_train_score = True, n_jobs = -1)\n",
    "\n",
    "print(np.mean(scores['train_score']), np.mean(scores['test_score']))"
   ]
  },
  {
   "cell_type": "markdown",
   "id": "5fed33df",
   "metadata": {},
   "source": [
    "* 결정 트리처럼 랜덤 포레스트도 특성 중요도를 제공한다. \n",
    "* 각 트리의 특성 중요도를취합하여 계산한 것이다. \n",
    "* 일반적으로 랜덤 포레스트에서 제공하는 특성 중요도가 하나의 트리에서 제공하는 것보다 신뢰도가 높다. "
   ]
  },
  {
   "cell_type": "code",
   "execution_count": 6,
   "id": "fb0ef143",
   "metadata": {},
   "outputs": [
    {
     "name": "stdout",
     "output_type": "stream",
     "text": [
      "[0.23167441 0.50039841 0.26792718]\n"
     ]
    }
   ],
   "source": [
    "rf.fit(train_input, train_target)\n",
    "print(rf.feature_importances_)"
   ]
  },
  {
   "cell_type": "code",
   "execution_count": 9,
   "id": "39598bf9",
   "metadata": {},
   "outputs": [
    {
     "name": "stdout",
     "output_type": "stream",
     "text": [
      "alcohol : 0.231674\n",
      "sugar : 0.500398\n",
      "pH : 0.267927\n"
     ]
    },
    {
     "data": {
      "text/plain": [
       "<Axes: >"
      ]
     },
     "execution_count": 9,
     "metadata": {},
     "output_type": "execute_result"
    },
    {
     "data": {
      "image/png": "[encoded data removed]",
      "text/plain": [
       "<Figure size 640x480 with 1 Axes>"
      ]
     },
     "metadata": {},
     "output_type": "display_data"
    }
   ],
   "source": [
    "import seaborn as sns\n",
    "feature_names = ['alcohol', 'sugar', 'pH']\n",
    "# reature 별 importance 매핑\n",
    "for name, value in zip(feature_names, rf.feature_importances_):\n",
    "    print('{0} : {1:3f}'.format(name, value))\n",
    "#feature importance 를 column 별로 시각화하기\n",
    "sns.barplot(x = rf.feature_importances_, y=feature_names)"
   ]
  },
  {
   "cell_type": "code",
   "execution_count": 10,
   "id": "e34d9c62",
   "metadata": {},
   "outputs": [
    {
     "name": "stdout",
     "output_type": "stream",
     "text": [
      "0.8934000384837406\n"
     ]
    }
   ],
   "source": [
    "# out of bag 샘플(검증 세트의 역할)  oob_score = True\n",
    "rf = RandomForestClassifier(oob_score = True, n_jobs = -1, random_state = 42)\n",
    "\n",
    "rf.fit(train_input, train_target)\n",
    "print(rf.oob_score_)"
   ]
  },
  {
   "cell_type": "markdown",
   "id": "67c9018f",
   "metadata": {},
   "source": [
    "#### 장단점과 매개변수\n",
    "* 회귀와 분류에 있어서 랜덤 포레스트는 현재 가장 널리 사용되는 머신러닝 알고리즘이다.\n",
    "* 랜덤 포레스트는 성능이 매우 뛰어나고 매개변수 튜닝을 많이 하지 않아도 잘 작동하며, 데이터의 스케일을 맞출 필요도 없다.\n",
    "* 기본적으로 랜덤 포레스트는 단일 트리의 단점을 보완하는 장점은 가지고 있다.\n",
    "* 대량의 데이터셋에서 랜덤 포레스트 모델을 만들 때 다소 시간이 걸릴 수 있지만 CPU코어가 많다면 손쉽게 병렬 처리할 수있다.\n",
    "* n_jobs 매개변수를 이용하여 사용할 코어 수를 지정할  수 있다.\n",
    "(n_jobs=-1로 지정하면 컴퓨터의 모든 코어를 사용한다.)"
   ]
  },
  {
   "cell_type": "markdown",
   "id": "91456318",
   "metadata": {},
   "source": [
    "## 엑스트라 트리\n",
    "* 부트스트랩 샘플을 사용하지 않는다. \n",
    "* 각 결정트리를 만들 때 전체 샘플을 사용\n",
    "* 노드 분할 시 가장 좋은 분할을 찾는 것이 아니라 무작위 분할\n",
    "* 무작위 분할하므로 성능은 낮아지지만, 많은 트리를 앙상블\n",
    "    * 과대적합을 막고 검증 세트의 점수를 높이는 효과가 있다. "
   ]
  },
  {
   "cell_type": "code",
   "execution_count": 11,
   "id": "7211c3b8",
   "metadata": {},
   "outputs": [
    {
     "name": "stdout",
     "output_type": "stream",
     "text": [
      "0.9974503966084433 0.8887848893166506\n"
     ]
    }
   ],
   "source": [
    "from sklearn.ensemble import ExtraTreesClassifier\n",
    "\n",
    "et = ExtraTreesClassifier(n_jobs = -1, random_state= 42)\n",
    "scores = cross_validate(et, train_input, train_target, return_train_score = True, n_jobs = -1)\n",
    "\n",
    "print(np.mean(scores['train_score']), np.mean(scores['test_score']))"
   ]
  },
  {
   "cell_type": "code",
   "execution_count": 12,
   "id": "c858923f",
   "metadata": {},
   "outputs": [
    {
     "name": "stdout",
     "output_type": "stream",
     "text": [
      "[0.20183568 0.52242907 0.27573525]\n"
     ]
    }
   ],
   "source": [
    "et.fit(train_input, train_target)\n",
    "print(et.feature_importances_)"
   ]
  },
  {
   "cell_type": "markdown",
   "id": "a19d7b3f",
   "metadata": {},
   "source": [
    "## 그레이디언트 부스팅\n",
    "* 그래디언트 부스팅 회귀 트리는 여러 개의 결정 트리를 묶어 강력한 모델을 만드는 앙상블 기법이다.\n",
    "* 이름이 회귀지만 회귀/분류 모두 사용할 수 있다.\n",
    "* 랜덤 포레스트와 달리 그래디언트 부스팅은 이전 트리의 오차를 보완하는 방식으로 순차적으로 트리를 만든다. 기본적으로 그래디언트 부스팅 회귀 트리에는 무작위성이 없다.\n",
    "* 대신 강력한 사전 가지치기가 사용된다.\n",
    "* 그래디언트 부스팅 트리는 머신러닝 경연 대회에서 우승을 많이 차지하였고, 업계에서도 널리 사용된다.\n",
    "* 랜덤 포레스트보다는 매개변수 설정에 조금 더 민감하지만 잘 조정하면 높은 정확도를 제공해준다."
   ]
  },
  {
   "cell_type": "code",
   "execution_count": 17,
   "id": "69cd6f28",
   "metadata": {},
   "outputs": [
    {
     "name": "stdout",
     "output_type": "stream",
     "text": [
      "0.8881086892152563 0.8720430147331015\n"
     ]
    }
   ],
   "source": [
    "from sklearn.ensemble import GradientBoostingClassifier\n",
    "\n",
    "gb = GradientBoostingClassifier(random_state = 42)\n",
    "scores = cross_validate(gb, train_input, train_target, return_train_score = True, n_jobs = -1 )\n",
    "\n",
    "print(np.mean(scores['train_score']), np.mean(scores['test_score']))\n",
    "#아래 결과에서 보면 과대적합 되지 않음"
   ]
  },
  {
   "cell_type": "code",
   "execution_count": 20,
   "id": "4a3eca22",
   "metadata": {},
   "outputs": [
    {
     "name": "stdout",
     "output_type": "stream",
     "text": [
      "0.9464595437171814 0.8780082549788999\n"
     ]
    }
   ],
   "source": [
    "# n_estimators = 500 : 트리를 500개 만듬, learning_rate = 0.2 : 학습률(기본값 0.1)\n",
    "gb = GradientBoostingClassifier(n_estimators=500, learning_rate=0.2, random_state = 42)\n",
    "\n",
    "scores = cross_validate(gb, train_input, train_target, return_train_score=True, n_jobs = -1)\n",
    "print(np.mean(scores['train_score']), np.mean(scores['test_score']))\n",
    "# 아래 결과에서 보면 과대적합"
   ]
  },
  {
   "cell_type": "code",
   "execution_count": 21,
   "id": "ba72037b",
   "metadata": {},
   "outputs": [
    {
     "name": "stdout",
     "output_type": "stream",
     "text": [
      "[0.15872278 0.68011572 0.16116151]\n"
     ]
    }
   ],
   "source": [
    "gb.fit(train_input, train_target)\n",
    "print(gb.feature_importances_)"
   ]
  },
  {
   "cell_type": "markdown",
   "id": "6b97d9d4",
   "metadata": {},
   "source": [
    "## 히스토그램 기반 그래디언트 부스팅\n",
    "* 정형 데이터를 다루는 ML 알고리즘 중 인기가 높음\n",
    "* 훈련데이터를 256개 구간으로 잘라서 빠르게 학습\n",
    "* 255개 구간으로 나누고 누락된 값은 떼어놓은 1개로 사용"
   ]
  },
  {
   "cell_type": "code",
   "execution_count": 25,
   "id": "40586e7d",
   "metadata": {},
   "outputs": [
    {
     "name": "stdout",
     "output_type": "stream",
     "text": [
      "0.9321723946453317 0.8801241948619236\n"
     ]
    }
   ],
   "source": [
    "from sklearn.ensemble import HistGradientBoostingClassifier\n",
    "\n",
    "hgb = HistGradientBoostingClassifier(random_state = 42)\n",
    "scores = cross_validate(hgb, train_input, train_target, return_train_score = True, n_jobs = -1)\n",
    "\n",
    "print(np.mean(scores['train_score']), np.mean(scores['test_score']))\n",
    "# gb 보다 성능이좋다."
   ]
  },
  {
   "cell_type": "code",
   "execution_count": 29,
   "id": "f882665c",
   "metadata": {},
   "outputs": [
    {
     "name": "stdout",
     "output_type": "stream",
     "text": [
      "[0.08876275 0.23438522 0.08027708]\n"
     ]
    }
   ],
   "source": [
    "# n_repeats = 10 (10번 돌려서. 기본값 5)\n",
    "from sklearn.inspection import permutation_importance\n",
    "\n",
    "hgb.fit(train_input, train_target)\n",
    "result = permutation_importance(hgb, train_input, train_target, n_repeats = 10, random_state = 42, n_jobs = -1)\n",
    "\n",
    "print(result.importances_mean)"
   ]
  },
  {
   "cell_type": "code",
   "execution_count": 30,
   "id": "8aa8a9c1",
   "metadata": {
    "scrolled": true
   },
   "outputs": [
    {
     "name": "stdout",
     "output_type": "stream",
     "text": [
      "[0.05969231 0.20238462 0.049     ]\n"
     ]
    }
   ],
   "source": [
    "result = permutation_importance(hgb, test_input, test_target, n_repeats = 10, random_state = 42, n_jobs = -1 )\n",
    "print(result.importances_mean)"
   ]
  },
  {
   "cell_type": "markdown",
   "id": "0d326bd7",
   "metadata": {},
   "source": [
    "### XGboost\n",
    "* pip install xgboost"
   ]
  },
  {
   "cell_type": "code",
   "execution_count": 42,
   "id": "db59a926",
   "metadata": {},
   "outputs": [
    {
     "name": "stdout",
     "output_type": "stream",
     "text": [
      "0.9555033709953124 0.8799326275264677\n"
     ]
    }
   ],
   "source": [
    "# tree_method = 'hist ': 히스토그램 매개변수\n",
    "from xgboost import XGBClassifier\n",
    "xgb = XGBClassifier(tree_method = 'hist', random_state = 42)\n",
    "scores = cross_validate(xgb, train_input, train_target, return_train_score = True, n_jobs = -1)\n",
    "\n",
    "print(np.mean(scores['train_score']), np.mean(scores['test_score']))    #과대적합. "
   ]
  },
  {
   "cell_type": "markdown",
   "id": "3e0dca79",
   "metadata": {},
   "source": [
    "### LightGBM\n",
    "* MS 에서 만든 LightGBM --> 인기가 점점 높아지고 있는 모델\n",
    "* pip install lightgbm"
   ]
  },
  {
   "cell_type": "code",
   "execution_count": 41,
   "id": "619398a0",
   "metadata": {},
   "outputs": [
    {
     "name": "stdout",
     "output_type": "stream",
     "text": [
      "0.935828414851749 0.8801251203079884\n"
     ]
    }
   ],
   "source": [
    "from lightgbm import LGBMClassifier\n",
    "lgb = LGBMClassifier(random_state = 42)\n",
    "scores = cross_validate(lgb, train_input, train_target, return_train_score = True, n_jobs = -1)\n",
    "print(np.mean(scores['train_score']), np.mean(scores['test_score']))"
   ]
  },
  {
   "cell_type": "code",
   "execution_count": null,
   "id": "a1fab035",
   "metadata": {},
   "outputs": [],
   "source": []
  }
 ],
 "metadata": {
  "kernelspec": {
   "display_name": "Python 3 (ipykernel)",
   "language": "python",
   "name": "python3"
  },
  "language_info": {
   "codemirror_mode": {
    "name": "ipython",
    "version": 3
   },
   "file_extension": ".py",
   "mimetype": "text/x-python",
   "name": "python",
   "nbconvert_exporter": "python",
   "pygments_lexer": "ipython3",
   "version": "3.9.16"
  }
 },
 "nbformat": 4,
 "nbformat_minor": 5
}
