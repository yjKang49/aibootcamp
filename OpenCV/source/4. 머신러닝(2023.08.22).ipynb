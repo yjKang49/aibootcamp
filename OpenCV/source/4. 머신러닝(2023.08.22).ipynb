{
 "cells": [
  {
   "cell_type": "markdown",
   "id": "63b0632b",
   "metadata": {},
   "source": [
    "# 9장. 머신러닝\n",
    "* Machine Learning 그동안 배운것 참고해서 (p.369~394) 공부\n",
    "<br>\n",
    "### 1. Face Detector and Recongnizer\n",
    "* Haar Cascade\n",
    "    * 트리기반 객체 분류기\n",
    "    * Haar-like Feature\n",
    "        * 검정 영역의 픽셀 합 - 흰색 영역의 픽셀 합 = Feature 한개의 값\n",
    "        * 24*24 윈도우, 160000개의 특징으로 적용할 수 있다. \n",
    "    * 훈련과정\n",
    "        * 160,000+ 특징을 모든 훈련 이미지에 적용\n",
    "        * 각 특징에 대해 최선의 Threshold 값 찾기\n",
    "        * adaboost(adaptive boosting)\n",
    "            * 오류율이 작은 특징만 선택\n",
    "            * 요구하는 오류, 정확도, 특징의 개수에 도달할 때까지 반복\n",
    "        *\n",
    "        \n",
    "\n",
    "### 참고자료\n",
    "* OpenCV document > object detection \n",
    "    * https://docs.opencv.org/3.4/db/d28/tutorial_cascade_classifier.html\n",
    "* haar 파일 얻는 곳\n",
    "    * https://github.com/opencv/opencv/blob/4.x/data/haarcascades/haarcascade_frontalface_default.xml"
   ]
  },
  {
   "cell_type": "markdown",
   "id": "90b68e56",
   "metadata": {},
   "source": [
    "### Cascade 얼굴검출"
   ]
  },
  {
   "cell_type": "code",
   "execution_count": 11,
   "id": "69304be6",
   "metadata": {},
   "outputs": [],
   "source": [
    "# p.422\n",
    "import cv2\n",
    "\n",
    "img=cv2.imread('../insightbook.opencv_project_python-master/img/children.jpg')\n",
    "face_cascade = cv2.CascadeClassifier('../insightbook.opencv_project_python-master/09.ml/data/haarcascade_frontalface_default.xml')  # 얼굴인식 학습시킨 모델\n",
    "eye_cascade = cv2.CascadeClassifier('../insightbook.opencv_project_python-master/09.ml/data/haarcascade_eye.xml')   # 눈 인식 학습시킨 모델\n",
    "gray = cv2.cvtColor(img, cv2.COLOR_BGR2GRAY)\n",
    "\n",
    "faces = face_cascade.detectMultiScale(gray)\n",
    "for(x,y,w,h) in faces:\n",
    "    cv2.rectangle(img, (x,y), (x+w, y+h), (255,0,0), 2)\n",
    "    roi_gray = gray[y:y+h, x:x+w]\n",
    "    roi_color = img[y:y+h, x:x+w]\n",
    "    eyes = eye_cascade.detectMultiScale(roi_gray)\n",
    "    for (ex,ey, ew, eh) in eyes:\n",
    "        cv2.rectangle(roi_color, (ex, ey),(ex+ew, ey+eh), (0,255,0),1)\n",
    "cv2.imshow('children', img)\n",
    "cv2.waitKey(0)\n",
    "cv2.destroyAllWindows()\n"
   ]
  },
  {
   "cell_type": "markdown",
   "id": "a48d48e9",
   "metadata": {},
   "source": [
    "### cascade 카메라로 얼굴, 눈 검출"
   ]
  },
  {
   "cell_type": "code",
   "execution_count": 13,
   "id": "acebc39a",
   "metadata": {},
   "outputs": [],
   "source": [
    "# p.423\n",
    "import cv2\n",
    "\n",
    "# 얼굴과 눈 검출을 위한 캐스케이드 분류기 생성\n",
    "cascade_xml = '../insightbook.opencv_project_python-master/09.ml/data/haarcascade_frontalface_default.xml'  # 얼굴인식 학습시킨 모델\n",
    "eye_cascade = cv2.CascadeClassifier('../insightbook.opencv_project_python-master/09.ml/data/haarcascade_eye.xml')   # 눈 인식 학습시킨 모델\n",
    "cascade = cv2.CascadeClassifier(cascade_xml)\n",
    "cam = cv2.VideoCapture(0)\n",
    "\n",
    "while True:\n",
    "    ret, img = cam.read()\n",
    "    if not ret:\n",
    "        print('no frame')\n",
    "        break\n",
    "    gray = cv2.cvtColor(img, cv2.COLOR_BGR2GRAY)\n",
    "    faces = cascade.detectMultiScale(gray, 1.3, 5)\n",
    "    for(x,y,w,h) in  faces:\n",
    "        cv2.rectangle(img, (x,y), (x+w, y+h), (0,255,0), 2)\n",
    "        roi = gray[y:y+h, x:x+w]\n",
    "        eyes = eye_cascade.detectMultiScale(roi)\n",
    "        for(ex, ey, ew, eh) in eyes:\n",
    "            cv2.rectangle(img[y:y+h, x:x+w], (ex,ey), (ex+ew, ey+eh), (255, 0,0), 2)\n",
    "    cv2.imshow('facedetect', img)\n",
    "    if 0xFF & cv2.waitKey(5) == 27:        # esc키로 종료\n",
    "        break\n",
    "cv2.destroyAllWindows()  \n"
   ]
  },
  {
   "cell_type": "markdown",
   "id": "914bbe36",
   "metadata": {},
   "source": []
  },
  {
   "cell_type": "code",
   "execution_count": null,
   "id": "d45ba031",
   "metadata": {},
   "outputs": [],
   "source": []
  },
  {
   "cell_type": "code",
   "execution_count": null,
   "id": "a92a3584",
   "metadata": {},
   "outputs": [],
   "source": []
  },
  {
   "cell_type": "code",
   "execution_count": null,
   "id": "ec289f21",
   "metadata": {},
   "outputs": [],
   "source": []
  },
  {
   "cell_type": "code",
   "execution_count": null,
   "id": "f15e4708",
   "metadata": {},
   "outputs": [],
   "source": []
  },
  {
   "cell_type": "code",
   "execution_count": null,
   "id": "5ac999ad",
   "metadata": {},
   "outputs": [],
   "source": []
  },
  {
   "cell_type": "code",
   "execution_count": null,
   "id": "f6f8d72d",
   "metadata": {},
   "outputs": [],
   "source": []
  },
  {
   "cell_type": "code",
   "execution_count": null,
   "id": "edf9a727",
   "metadata": {},
   "outputs": [],
   "source": []
  },
  {
   "cell_type": "code",
   "execution_count": null,
   "id": "c93cdc27",
   "metadata": {},
   "outputs": [],
   "source": []
  },
  {
   "cell_type": "code",
   "execution_count": null,
   "id": "cf8db7d3",
   "metadata": {},
   "outputs": [],
   "source": []
  },
  {
   "cell_type": "code",
   "execution_count": null,
   "id": "6adde0c3",
   "metadata": {},
   "outputs": [],
   "source": []
  },
  {
   "cell_type": "code",
   "execution_count": null,
   "id": "eb4efa44",
   "metadata": {},
   "outputs": [],
   "source": []
  },
  {
   "cell_type": "code",
   "execution_count": null,
   "id": "7b9b9461",
   "metadata": {},
   "outputs": [],
   "source": []
  },
  {
   "cell_type": "code",
   "execution_count": null,
   "id": "e0eb7cca",
   "metadata": {},
   "outputs": [],
   "source": []
  },
  {
   "cell_type": "code",
   "execution_count": null,
   "id": "8240cb81",
   "metadata": {},
   "outputs": [],
   "source": []
  },
  {
   "cell_type": "code",
   "execution_count": null,
   "id": "372cd108",
   "metadata": {},
   "outputs": [],
   "source": []
  },
  {
   "cell_type": "code",
   "execution_count": null,
   "id": "f9075854",
   "metadata": {},
   "outputs": [],
   "source": []
  },
  {
   "cell_type": "code",
   "execution_count": null,
   "id": "793ac8e1",
   "metadata": {},
   "outputs": [],
   "source": []
  },
  {
   "cell_type": "code",
   "execution_count": null,
   "id": "93619100",
   "metadata": {},
   "outputs": [],
   "source": []
  },
  {
   "cell_type": "code",
   "execution_count": null,
   "id": "42a84ebf",
   "metadata": {},
   "outputs": [],
   "source": []
  },
  {
   "cell_type": "code",
   "execution_count": null,
   "id": "fe56130d",
   "metadata": {},
   "outputs": [],
   "source": []
  },
  {
   "cell_type": "code",
   "execution_count": null,
   "id": "16c7b4ed",
   "metadata": {},
   "outputs": [],
   "source": []
  },
  {
   "cell_type": "code",
   "execution_count": null,
   "id": "8affbdf6",
   "metadata": {},
   "outputs": [],
   "source": []
  }
 ],
 "metadata": {
  "kernelspec": {
   "display_name": "Python 3 (ipykernel)",
   "language": "python",
   "name": "python3"
  },
  "language_info": {
   "codemirror_mode": {
    "name": "ipython",
    "version": 3
   },
   "file_extension": ".py",
   "mimetype": "text/x-python",
   "name": "python",
   "nbconvert_exporter": "python",
   "pygments_lexer": "ipython3",
   "version": "3.9.16"
  }
 },
 "nbformat": 4,
 "nbformat_minor": 5
}
