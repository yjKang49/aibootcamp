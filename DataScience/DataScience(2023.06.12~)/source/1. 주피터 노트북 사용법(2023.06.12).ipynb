{
 "cells": [
  {
   "cell_type": "code",
   "execution_count": 2,
   "id": "a8eaaab7",
   "metadata": {},
   "outputs": [
    {
     "data": {
      "text/plain": [
       "4"
      ]
     },
     "execution_count": 2,
     "metadata": {},
     "output_type": "execute_result"
    }
   ],
   "source": [
    "3+1"
   ]
  },
  {
   "cell_type": "code",
   "execution_count": 3,
   "id": "3c46db3b",
   "metadata": {},
   "outputs": [
    {
     "name": "stdout",
     "output_type": "stream",
     "text": [
      "hello world\n"
     ]
    }
   ],
   "source": [
    "print(\"hello world\")"
   ]
  },
  {
   "cell_type": "markdown",
   "id": "8a4d2c07",
   "metadata": {},
   "source": [
    "## markdown cell\n",
    "#### 파이썬 코드를 쉽게 쓰고 확인하고 이를 쉽게 문서화 하고 싶은 경우 사용합니다. \n",
    "\n",
    "* 코드를 블록별로 실행한 결과를 저장하면 다시 문서를 불러왔을 때 그 결과를 재실행하지 않아도 볼 수 있습니다. \n",
    "* 데이터를 핸들링하는 과정과 결과를 볼 수 있어 개발환경을 구축하지 않는 사람도 코드를 볼 수 있습니다. "
   ]
  },
  {
   "cell_type": "markdown",
   "id": "3106a0c3",
   "metadata": {},
   "source": [
    "# 큰 제목 텍스트\n",
    "## 중간 제목 텍스트\n",
    "### 작은 제목 텍스트\n",
    "* 번호없는 목록입니다. \n",
    "    * 탭을 입력하고 *를 사용하면 들여쓰기가 됩니다.\n",
    "    * 번호없는 목록입니다."
   ]
  },
  {
   "cell_type": "markdown",
   "id": "88458a1a",
   "metadata": {},
   "source": [
    "### 굵은 글씨, 기울인 글끼, 굵은 상태에서 기울인 글씨\n",
    "*기울인 글씨* 와 **굵은 글씨** 와 ***굵게 기울인 글씨***"
   ]
  },
  {
   "cell_type": "markdown",
   "id": "fd45cdfa",
   "metadata": {},
   "source": [
    "### 주요 단축키\n",
    "* shift + enter: 액티브 셀을 실행하고 아래 셀을 선택\n",
    "* ctrl + enter: 액티브 셀을 실행\n",
    "* alt + enter: 액티브 셀을 실행하고 아래에 셀을 하나 생성\n",
    "* shift + ctrl + - : 커서 위치에서 셀을 둘로 나눔 \n",
    "* shift + m: 선택 셀과 아래 셀을 합침\n",
    "* dd: 선택 셀 삭제\n",
    "* a: 위로 셀 추가\n",
    "* b: 아래로 셀 추가\n",
    "* m: markdown으로 변경\n",
    "* y: code로 변경"
   ]
  },
  {
   "cell_type": "code",
   "execution_count": null,
   "id": "7045cdb4",
   "metadata": {},
   "outputs": [],
   "source": [
    "print('hello world!')"
   ]
  },
  {
   "cell_type": "code",
   "execution_count": null,
   "id": "ea8cd431",
   "metadata": {},
   "outputs": [],
   "source": [
    "print('hello world!')"
   ]
  }
 ],
 "metadata": {
  "kernelspec": {
   "display_name": "Python 3 (ipykernel)",
   "language": "python",
   "name": "python3"
  },
  "language_info": {
   "codemirror_mode": {
    "name": "ipython",
    "version": 3
   },
   "file_extension": ".py",
   "mimetype": "text/x-python",
   "name": "python",
   "nbconvert_exporter": "python",
   "pygments_lexer": "ipython3",
   "version": "3.9.16"
  }
 },
 "nbformat": 4,
 "nbformat_minor": 5
}
