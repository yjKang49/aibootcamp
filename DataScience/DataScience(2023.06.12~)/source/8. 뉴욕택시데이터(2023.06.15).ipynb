{
 "cells": [
  {
   "cell_type": "markdown",
   "id": "924f00f2",
   "metadata": {},
   "source": [
    "# 뉴욕 택시 데이터"
   ]
  },
  {
   "cell_type": "markdown",
   "id": "3bb39254",
   "metadata": {},
   "source": [
    "<li>13억 대의 뉴욕 택시에 대한 정보, 파일-140개"
   ]
  },
  {
   "cell_type": "code",
   "execution_count": 1,
   "id": "d16b08de",
   "metadata": {},
   "outputs": [
    {
     "name": "stdout",
     "output_type": "stream",
     "text": [
      "['../data/python_data\\\\fhv_tripdata_2015-01.csv', '../data/python_data\\\\fhv_tripdata_2015-02.csv', '../data/python_data\\\\fhv_tripdata_2015-03.csv', '../data/python_data\\\\fhv_tripdata_2015-04.csv', '../data/python_data\\\\fhv_tripdata_2015-05.csv']\n"
     ]
    }
   ],
   "source": [
    "# glob 라이브러리에 포함된 glob 메서드는 특정한 패턴의 이름을 가진 파일을 한 번에 읽어들일 수 있습니다.\n",
    "import glob\n",
    "import pandas as pd\n",
    "nyc_taxi_data = glob.glob('../data/python_data/fhv_*')\n",
    "print(nyc_taxi_data)"
   ]
  },
  {
   "cell_type": "code",
   "execution_count": 2,
   "id": "f3d7de85",
   "metadata": {},
   "outputs": [],
   "source": [
    "taxi1 = pd.read_csv(nyc_taxi_data[0])\n",
    "taxi2 = pd.read_csv(nyc_taxi_data[1])\n",
    "taxi3 = pd.read_csv(nyc_taxi_data[2])\n",
    "taxi4 = pd.read_csv(nyc_taxi_data[3])\n",
    "taxi5 = pd.read_csv(nyc_taxi_data[4])"
   ]
  },
  {
   "cell_type": "code",
   "execution_count": 3,
   "id": "e4d01f16",
   "metadata": {},
   "outputs": [
    {
     "name": "stdout",
     "output_type": "stream",
     "text": [
      "  Dispatching_base_num          Pickup_date  locationID\n",
      "0               B00013  2015-01-01 00:30:00         NaN\n",
      "1               B00013  2015-01-01 01:22:00         NaN\n",
      "  Dispatching_base_num          Pickup_date  locationID\n",
      "0               B00013  2015-02-01 00:00:00         NaN\n",
      "1               B00013  2015-02-01 00:01:00         NaN\n",
      "  Dispatching_base_num          Pickup_date  locationID\n",
      "0               B00029  2015-03-01 00:02:00       213.0\n",
      "1               B00029  2015-03-01 00:03:00        51.0\n",
      "  Dispatching_base_num          Pickup_date  locationID\n",
      "0               B00001  2015-04-01 04:30:00         NaN\n",
      "1               B00001  2015-04-01 06:00:00         NaN\n",
      "  Dispatching_base_num          Pickup_date  locationID\n",
      "0               B00001  2015-05-01 04:30:00         NaN\n",
      "1               B00001  2015-05-01 05:00:00         NaN\n"
     ]
    }
   ],
   "source": [
    "print(taxi1.head(n=2))\n",
    "print(taxi2.head(n=2))\n",
    "print(taxi3.head(n=2))\n",
    "print(taxi4.head(n=2))\n",
    "print(taxi5.head(n=2))"
   ]
  },
  {
   "cell_type": "code",
   "execution_count": 4,
   "id": "1398d946",
   "metadata": {},
   "outputs": [
    {
     "name": "stdout",
     "output_type": "stream",
     "text": [
      "(2746033, 3)\n",
      "(3126401, 3)\n",
      "(3281427, 3)\n",
      "(3917789, 3)\n",
      "(4296067, 3)\n"
     ]
    }
   ],
   "source": [
    "print(taxi1.shape)\n",
    "print(taxi2.shape)\n",
    "print(taxi3.shape)\n",
    "print(taxi4.shape)\n",
    "print(taxi5.shape)"
   ]
  },
  {
   "cell_type": "code",
   "execution_count": 5,
   "id": "e3037d22",
   "metadata": {},
   "outputs": [
    {
     "name": "stdout",
     "output_type": "stream",
     "text": [
      "(17367717, 3)\n"
     ]
    }
   ],
   "source": [
    "taxi = pd.concat([taxi1, taxi2, taxi3, taxi4, taxi5])\n",
    "\n",
    "print(taxi.shape)"
   ]
  },
  {
   "cell_type": "markdown",
   "id": "0e6611ee",
   "metadata": {},
   "source": [
    "# 반복문으로 데이터 준비하기"
   ]
  },
  {
   "cell_type": "code",
   "execution_count": 6,
   "id": "abfbfe07",
   "metadata": {
    "scrolled": true
   },
   "outputs": [
    {
     "name": "stdout",
     "output_type": "stream",
     "text": [
      "../data/python_data\\fhv_tripdata_2015-01.csv\n",
      "../data/python_data\\fhv_tripdata_2015-02.csv\n",
      "../data/python_data\\fhv_tripdata_2015-03.csv\n",
      "../data/python_data\\fhv_tripdata_2015-04.csv\n",
      "../data/python_data\\fhv_tripdata_2015-05.csv\n",
      "5\n"
     ]
    }
   ],
   "source": [
    "list_taxi_df = []\n",
    "\n",
    "for csv_filename in  nyc_taxi_data:\n",
    "    print(csv_filename)\n",
    "    df = pd.read_csv(csv_filename)\n",
    "    list_taxi_df.append(df)\n",
    "    #print(df)\n",
    "    \n",
    "print(len(list_taxi_df))"
   ]
  },
  {
   "cell_type": "code",
   "execution_count": 7,
   "id": "09f2bdf8",
   "metadata": {},
   "outputs": [
    {
     "name": "stdout",
     "output_type": "stream",
     "text": [
      "<class 'pandas.core.frame.DataFrame'>\n"
     ]
    }
   ],
   "source": [
    "print(type(list_taxi_df[0]))"
   ]
  },
  {
   "cell_type": "code",
   "execution_count": 8,
   "id": "194130da",
   "metadata": {},
   "outputs": [
    {
     "name": "stdout",
     "output_type": "stream",
     "text": [
      "  Dispatching_base_num          Pickup_date  locationID\n",
      "0               B00013  2015-01-01 00:30:00         NaN\n",
      "1               B00013  2015-01-01 01:22:00         NaN\n",
      "2               B00013  2015-01-01 01:23:00         NaN\n",
      "3               B00013  2015-01-01 01:44:00         NaN\n",
      "4               B00013  2015-01-01 02:00:00         NaN\n"
     ]
    }
   ],
   "source": [
    "print(list_taxi_df[0].head())"
   ]
  },
  {
   "cell_type": "code",
   "execution_count": 9,
   "id": "96ec8537",
   "metadata": {},
   "outputs": [
    {
     "name": "stdout",
     "output_type": "stream",
     "text": [
      "(17367717, 3)\n"
     ]
    }
   ],
   "source": [
    "taxi_loop_concat = pd.concat(list_taxi_df)\n",
    "print(taxi_loop_concat.shape)     #두가지  방법으로 할 수 있다."
   ]
  },
  {
   "cell_type": "code",
   "execution_count": 10,
   "id": "3fde9895",
   "metadata": {},
   "outputs": [
    {
     "name": "stdout",
     "output_type": "stream",
     "text": [
      "True\n"
     ]
    }
   ],
   "source": [
    "print(taxi.equals(taxi_loop_concat))"
   ]
  },
  {
   "cell_type": "markdown",
   "id": "c0ba73f1",
   "metadata": {},
   "source": [
    "# 연습문제 (이상한 코드 정리하기)\n",
    "## 1. 2000~2009년 출생한 남,여 파일을 읽어서 concat 시키세요.\n",
    "## 2. 출생한 전체 남녀 합을 구하세요\n",
    "## 3. 남녀 출생 추이 그래프를 그리세요."
   ]
  },
  {
   "cell_type": "code",
   "execution_count": 11,
   "id": "cd28aac0",
   "metadata": {},
   "outputs": [],
   "source": [
    "import pandas as pd\n",
    "import matplotlib.pyplot as plt\n",
    "import glob\n",
    "import seaborn as sns\n",
    "\n",
    "plt.rcParams['font.family'] = 'Malgun Gothic'\n",
    "plt.rcParams['axes.unicode_minus'] = False"
   ]
  },
  {
   "cell_type": "code",
   "execution_count": 12,
   "id": "78c01337",
   "metadata": {},
   "outputs": [
    {
     "name": "stdout",
     "output_type": "stream",
     "text": [
      "[]\n",
      "range(2000, 2010)\n"
     ]
    }
   ],
   "source": [
    "yob = glob.glob('../data/names/yob200*')\n",
    "print(yob)\n",
    "columns = ['name', 'sex', 'cnt']\n",
    "years = range(2000, 2010)\n",
    "print(years)"
   ]
  },
  {
   "cell_type": "code",
   "execution_count": 13,
   "id": "92d8223b",
   "metadata": {},
   "outputs": [
    {
     "name": "stdout",
     "output_type": "stream",
     "text": [
      "../data/python_data/names/yob2000.txt\n",
      "../data/python_data/names/yob2001.txt\n",
      "../data/python_data/names/yob2002.txt\n",
      "../data/python_data/names/yob2003.txt\n",
      "../data/python_data/names/yob2004.txt\n",
      "../data/python_data/names/yob2005.txt\n",
      "../data/python_data/names/yob2006.txt\n",
      "../data/python_data/names/yob2007.txt\n",
      "../data/python_data/names/yob2008.txt\n",
      "../data/python_data/names/yob2009.txt\n"
     ]
    }
   ],
   "source": [
    "list_yob = []\n",
    "for yy in years:\n",
    "    file = '../data/python_data/names/yob%d.txt' %yy\n",
    "    print(file)\n",
    "    df = pd.read_csv(file, header=None, names=columns)\n",
    "    df['year'] = yy\n",
    "    list_yob.append(df)"
   ]
  },
  {
   "cell_type": "markdown",
   "id": "0dbb96ab",
   "metadata": {},
   "source": [
    "## 1. 2000~2009년 출생한 남,여 파일을 읽어서 concat 시키세요."
   ]
  },
  {
   "cell_type": "code",
   "execution_count": 14,
   "id": "81b82aef",
   "metadata": {},
   "outputs": [
    {
     "data": {
      "text/html": [
       "<div>\n",
       "<style scoped>\n",
       "    .dataframe tbody tr th:only-of-type {\n",
       "        vertical-align: middle;\n",
       "    }\n",
       "\n",
       "    .dataframe tbody tr th {\n",
       "        vertical-align: top;\n",
       "    }\n",
       "\n",
       "    .dataframe thead th {\n",
       "        text-align: right;\n",
       "    }\n",
       "</style>\n",
       "<table border=\"1\" class=\"dataframe\">\n",
       "  <thead>\n",
       "    <tr style=\"text-align: right;\">\n",
       "      <th></th>\n",
       "      <th>name</th>\n",
       "      <th>sex</th>\n",
       "      <th>cnt</th>\n",
       "      <th>year</th>\n",
       "    </tr>\n",
       "  </thead>\n",
       "  <tbody>\n",
       "    <tr>\n",
       "      <th>0</th>\n",
       "      <td>Emily</td>\n",
       "      <td>F</td>\n",
       "      <td>25956</td>\n",
       "      <td>2000</td>\n",
       "    </tr>\n",
       "    <tr>\n",
       "      <th>1</th>\n",
       "      <td>Hannah</td>\n",
       "      <td>F</td>\n",
       "      <td>23082</td>\n",
       "      <td>2000</td>\n",
       "    </tr>\n",
       "    <tr>\n",
       "      <th>2</th>\n",
       "      <td>Madison</td>\n",
       "      <td>F</td>\n",
       "      <td>19968</td>\n",
       "      <td>2000</td>\n",
       "    </tr>\n",
       "    <tr>\n",
       "      <th>3</th>\n",
       "      <td>Ashley</td>\n",
       "      <td>F</td>\n",
       "      <td>17997</td>\n",
       "      <td>2000</td>\n",
       "    </tr>\n",
       "    <tr>\n",
       "      <th>4</th>\n",
       "      <td>Sarah</td>\n",
       "      <td>F</td>\n",
       "      <td>17702</td>\n",
       "      <td>2000</td>\n",
       "    </tr>\n",
       "  </tbody>\n",
       "</table>\n",
       "</div>"
      ],
      "text/plain": [
       "      name sex    cnt  year\n",
       "0    Emily   F  25956  2000\n",
       "1   Hannah   F  23082  2000\n",
       "2  Madison   F  19968  2000\n",
       "3   Ashley   F  17997  2000\n",
       "4    Sarah   F  17702  2000"
      ]
     },
     "execution_count": 14,
     "metadata": {},
     "output_type": "execute_result"
    }
   ],
   "source": [
    "yob_df = pd.concat(list_yob)\n",
    "yob_df.head()"
   ]
  },
  {
   "cell_type": "markdown",
   "id": "c06e9b57",
   "metadata": {},
   "source": [
    "## 2. 출생한 전체 남녀 합을 구하세요"
   ]
  },
  {
   "cell_type": "code",
   "execution_count": 18,
   "id": "ff6dc2cb",
   "metadata": {},
   "outputs": [
    {
     "data": {
      "text/plain": [
       "sex\n",
       "F    18463899\n",
       "M    19946991\n",
       "Name: cnt, dtype: int64"
      ]
     },
     "execution_count": 18,
     "metadata": {},
     "output_type": "execute_result"
    }
   ],
   "source": [
    "sex_sum = yob_df.groupby(['sex'])['cnt'].sum()\n",
    "sex_sum"
   ]
  },
  {
   "cell_type": "markdown",
   "id": "41b6bd6f",
   "metadata": {},
   "source": [
    "## 3. 남녀 출생 추이 그래프를 그리세요."
   ]
  },
  {
   "cell_type": "code",
   "execution_count": 19,
   "id": "23f45c99",
   "metadata": {},
   "outputs": [
    {
     "data": {
      "image/png": "[encoded data removed]",
      "text/plain": [
       "<Figure size 640x480 with 1 Axes>"
      ]
     },
     "metadata": {},
     "output_type": "display_data"
    }
   ],
   "source": [
    "f, ax = plt.subplots(1,1)\n",
    "labels = '여(' + str(sex_sum[0])+')', '남('+ str(sex_sum[1]) + ')'\n",
    "sex_sum.plot.pie(autopct = '%1.1f%%', explode = (0, 0.05), shadow=True,\n",
    "                startangle = -90, labels = labels,\n",
    "                 colors = ['pink', 'skyblue'])\n",
    "ax.set_ylabel('')\n",
    "plt.show()"
   ]
  },
  {
   "cell_type": "code",
   "execution_count": 20,
   "id": "0ab068b2",
   "metadata": {},
   "outputs": [
    {
     "data": {
      "image/png": "[encoded data removed]",
      "text/plain": [
       "<Figure size 640x480 with 1 Axes>"
      ]
     },
     "metadata": {},
     "output_type": "display_data"
    }
   ],
   "source": [
    "ax = plt.subplots()\n",
    "ax = sns.countplot(x = 'year', hue = 'sex', data = yob_df)\n",
    "ax.set_title('연도별 남/여 숫자')\n",
    "plt.show()"
   ]
  },
  {
   "cell_type": "code",
   "execution_count": null,
   "id": "c5fdc2bc",
   "metadata": {},
   "outputs": [],
   "source": []
  },
  {
   "cell_type": "code",
   "execution_count": null,
   "id": "1cdac03a",
   "metadata": {},
   "outputs": [],
   "source": []
  },
  {
   "cell_type": "code",
   "execution_count": null,
   "id": "8faff59d",
   "metadata": {},
   "outputs": [],
   "source": []
  }
 ],
 "metadata": {
  "kernelspec": {
   "display_name": "Python 3 (ipykernel)",
   "language": "python",
   "name": "python3"
  },
  "language_info": {
   "codemirror_mode": {
    "name": "ipython",
    "version": 3
   },
   "file_extension": ".py",
   "mimetype": "text/x-python",
   "name": "python",
   "nbconvert_exporter": "python",
   "pygments_lexer": "ipython3",
   "version": "3.9.16"
  }
 },
 "nbformat": 4,
 "nbformat_minor": 5
}
