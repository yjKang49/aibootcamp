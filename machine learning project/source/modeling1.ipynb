{
 "cells": [
  {
   "cell_type": "code",
   "execution_count": 2,
   "metadata": {},
   "outputs": [],
   "source": [
    "import numpy as np\n",
    "import pandas as pd\n",
    "import matplotlib.pyplot as plt\n",
    "import warnings\n",
    "warnings.simplefilter(action='ignore', category=FutureWarning)\n",
    "import xgboost as xgb\n",
    "from catboost import CatBoostRegressor\n",
    "from sklearn.ensemble import RandomForestRegressor\n",
    "from lightgbm import LGBMRegressor\n",
    "from sklearn.cluster import KMeans\n",
    "from sklearn.model_selection import TimeSeriesSplit\n",
    "from sklearn.metrics import mean_squared_error\n",
    "\n",
    "\n",
    "%matplotlib inline\n",
    "import warnings\n",
    "warnings.filterwarnings('ignore')"
   ]
  },
  {
   "cell_type": "code",
   "execution_count": 3,
   "metadata": {},
   "outputs": [],
   "source": [
    "df_train = pd.read_csv('../data/train.csv')\n",
    "df_test = pd.read_csv('../data/test.csv')\n",
    "df_sub = pd.read_csv('../data/sample_submission.csv')"
   ]
  },
  {
   "cell_type": "code",
   "execution_count": 4,
   "metadata": {},
   "outputs": [],
   "source": [
    "df_train = df_train.drop(['ID_LAT_LON_YEAR_WEEK'],axis=1)\n",
    "df_test = df_test.drop(['ID_LAT_LON_YEAR_WEEK'],axis=1)"
   ]
  },
  {
   "cell_type": "code",
   "execution_count": 5,
   "metadata": {},
   "outputs": [
    {
     "data": {
      "text/plain": [
       "((24353, 74), (79023, 75))"
      ]
     },
     "execution_count": 5,
     "metadata": {},
     "output_type": "execute_result"
    }
   ],
   "source": [
    "df_test.shape,df_train.shape"
   ]
  },
  {
   "cell_type": "code",
   "execution_count": 6,
   "metadata": {},
   "outputs": [
    {
     "data": {
      "text/plain": [
       "latitude                                       0\n",
       "longitude                                      0\n",
       "year                                           0\n",
       "week_no                                        0\n",
       "SulphurDioxide_SO2_column_number_density    6142\n",
       "                                            ... \n",
       "Cloud_surface_albedo                         166\n",
       "Cloud_sensor_azimuth_angle                   166\n",
       "Cloud_sensor_zenith_angle                    166\n",
       "Cloud_solar_azimuth_angle                    166\n",
       "Cloud_solar_zenith_angle                     166\n",
       "Length: 74, dtype: int64"
      ]
     },
     "execution_count": 6,
     "metadata": {},
     "output_type": "execute_result"
    }
   ],
   "source": [
    "df_test.isnull().sum()"
   ]
  },
  {
   "cell_type": "code",
   "execution_count": 7,
   "metadata": {},
   "outputs": [
    {
     "data": {
      "text/plain": [
       "latitude                                        0\n",
       "longitude                                       0\n",
       "year                                            0\n",
       "week_no                                         0\n",
       "SulphurDioxide_SO2_column_number_density    14609\n",
       "                                            ...  \n",
       "Cloud_sensor_azimuth_angle                    484\n",
       "Cloud_sensor_zenith_angle                     484\n",
       "Cloud_solar_azimuth_angle                     484\n",
       "Cloud_solar_zenith_angle                      484\n",
       "emission                                        0\n",
       "Length: 75, dtype: int64"
      ]
     },
     "execution_count": 7,
     "metadata": {},
     "output_type": "execute_result"
    }
   ],
   "source": [
    "df_train.isnull().sum()"
   ]
  },
  {
   "cell_type": "code",
   "execution_count": 8,
   "metadata": {},
   "outputs": [],
   "source": [
    "df_train_a = df_train.copy()"
   ]
  },
  {
   "cell_type": "code",
   "execution_count": 9,
   "metadata": {},
   "outputs": [],
   "source": [
    "df_train = df_train[[\"latitude\", \"longitude\",\"year\",\"week_no\"]]\n",
    "df_test  = df_test[[\"latitude\", \"longitude\",\"year\",\"week_no\"]]"
   ]
  },
  {
   "cell_type": "code",
   "execution_count": 10,
   "metadata": {},
   "outputs": [
    {
     "data": {
      "text/plain": [
       "(latitude     0\n",
       " longitude    0\n",
       " year         0\n",
       " week_no      0\n",
       " dtype: int64,\n",
       " latitude     0\n",
       " longitude    0\n",
       " year         0\n",
       " week_no      0\n",
       " dtype: int64)"
      ]
     },
     "execution_count": 10,
     "metadata": {},
     "output_type": "execute_result"
    }
   ],
   "source": [
    "df_train.isnull().sum(),df_test.isnull().sum()"
   ]
  },
  {
   "cell_type": "code",
   "execution_count": 11,
   "metadata": {},
   "outputs": [],
   "source": [
    "y = df_train_a['emission'] \n",
    "X = df_train "
   ]
  },
  {
   "cell_type": "code",
   "execution_count": 12,
   "metadata": {},
   "outputs": [],
   "source": [
    "# Create DMatrix for training data\n",
    "dtrain_full = xgb.DMatrix(X,label=y)\n",
    "\n",
    "# Hyperparameters and train the model\n",
    "params = {\n",
    "    'objective': 'reg:squarederror',  \n",
    "    'eval_metric': 'logloss',\n",
    "    'max_depth': 40,    \n",
    "    'eta': 0.32659,\n",
    "    'subsample': 0.8,\n",
    "    'colsample_bytree': 0.8,\n",
    "    'alpha': 1,\n",
    "    'lambda': 1,\n",
    "    'tree_method': 'hist'     #gpu_hist 사용불가여서 hist로 바꿈\n",
    "}\n",
    "num_rounds = 150\n",
    "\n",
    "model_full = xgb.train(params, dtrain_full,num_rounds)\n",
    "\n",
    "# Create DMatrix for test data\n",
    "dtest = xgb.DMatrix(df_test)\n",
    "\n",
    "# Make predictions on the test data\n",
    "y_test_pred_prob = model_full.predict(dtest)"
   ]
  },
  {
   "cell_type": "code",
   "execution_count": 13,
   "metadata": {},
   "outputs": [
    {
     "name": "stdout",
     "output_type": "stream",
     "text": [
      "0:\tlearn: 146.0377688\ttest: 126.7881747\tbest: 126.7881747 (0)\ttotal: 210ms\tremaining: 3m 23s\n",
      "100:\tlearn: 77.4815766\ttest: 74.2773841\tbest: 74.2773841 (100)\ttotal: 1.65s\tremaining: 14.2s\n",
      "200:\tlearn: 62.3142765\ttest: 61.6895512\tbest: 61.6895512 (200)\ttotal: 3.16s\tremaining: 12.1s\n",
      "300:\tlearn: 53.8486572\ttest: 54.0135753\tbest: 54.0135753 (300)\ttotal: 4.62s\tremaining: 10.3s\n",
      "400:\tlearn: 46.8896073\ttest: 47.8373979\tbest: 47.8373979 (400)\ttotal: 6.31s\tremaining: 8.95s\n",
      "500:\tlearn: 41.8144951\ttest: 43.0887047\tbest: 43.0887047 (500)\ttotal: 7.82s\tremaining: 7.32s\n",
      "600:\tlearn: 37.4653160\ttest: 39.1789960\tbest: 39.1789960 (600)\ttotal: 9.28s\tremaining: 5.7s\n",
      "700:\tlearn: 34.1656148\ttest: 36.1653138\tbest: 36.1653138 (700)\ttotal: 10.7s\tremaining: 4.12s\n",
      "800:\tlearn: 31.6094884\ttest: 33.8136759\tbest: 33.8136759 (800)\ttotal: 12.3s\tremaining: 2.59s\n",
      "900:\tlearn: 29.1468949\ttest: 31.7316063\tbest: 31.7316063 (900)\ttotal: 13.8s\tremaining: 1.05s\n",
      "969:\tlearn: 27.8223613\ttest: 30.5795702\tbest: 30.5795702 (969)\ttotal: 14.8s\tremaining: 0us\n",
      "\n",
      "bestTest = 30.57957024\n",
      "bestIteration = 969\n",
      "\n",
      "0:\tlearn: 140.1369444\ttest: 151.8347344\tbest: 151.8347344 (0)\ttotal: 15.6ms\tremaining: 15.1s\n",
      "100:\tlearn: 77.4344091\ttest: 81.8813297\tbest: 81.8813297 (100)\ttotal: 1.68s\tremaining: 14.4s\n",
      "200:\tlearn: 64.1235254\ttest: 67.4742861\tbest: 67.4742861 (200)\ttotal: 3.46s\tremaining: 13.2s\n",
      "300:\tlearn: 54.4181362\ttest: 56.9579122\tbest: 56.9579122 (300)\ttotal: 5.41s\tremaining: 12s\n",
      "400:\tlearn: 47.8334226\ttest: 49.9444477\tbest: 49.9444477 (400)\ttotal: 7.02s\tremaining: 9.96s\n",
      "500:\tlearn: 42.6611441\ttest: 44.5182797\tbest: 44.5182797 (500)\ttotal: 8.52s\tremaining: 7.97s\n",
      "600:\tlearn: 38.6312242\ttest: 40.3560380\tbest: 40.3560380 (600)\ttotal: 10s\tremaining: 6.15s\n",
      "700:\tlearn: 35.4847141\ttest: 37.0357616\tbest: 37.0357616 (700)\ttotal: 11.5s\tremaining: 4.42s\n",
      "800:\tlearn: 32.6943753\ttest: 34.0807723\tbest: 34.0807723 (800)\ttotal: 13.1s\tremaining: 2.76s\n",
      "900:\tlearn: 30.4736760\ttest: 31.7382618\tbest: 31.7382618 (900)\ttotal: 15.1s\tremaining: 1.16s\n",
      "969:\tlearn: 28.9471210\ttest: 30.0375315\tbest: 30.0375315 (969)\ttotal: 16.4s\tremaining: 0us\n",
      "\n",
      "bestTest = 30.03753152\n",
      "bestIteration = 969\n",
      "\n",
      "0:\tlearn: 144.3681376\ttest: 134.6794984\tbest: 134.6794984 (0)\ttotal: 20.5ms\tremaining: 19.9s\n",
      "100:\tlearn: 75.3024489\ttest: 76.2140763\tbest: 76.2140763 (100)\ttotal: 1.9s\tremaining: 16.4s\n",
      "200:\tlearn: 61.5854277\ttest: 62.8270583\tbest: 62.8270583 (200)\ttotal: 3.67s\tremaining: 14s\n",
      "300:\tlearn: 52.8565952\ttest: 54.2832796\tbest: 54.2832796 (300)\ttotal: 5.45s\tremaining: 12.1s\n",
      "400:\tlearn: 46.5309428\ttest: 48.2478149\tbest: 48.2478149 (400)\ttotal: 7.31s\tremaining: 10.4s\n",
      "500:\tlearn: 41.4981698\ttest: 43.5296942\tbest: 43.5296942 (500)\ttotal: 8.87s\tremaining: 8.3s\n",
      "600:\tlearn: 37.4294001\ttest: 39.7052155\tbest: 39.7052155 (600)\ttotal: 10.5s\tremaining: 6.42s\n",
      "700:\tlearn: 33.8204868\ttest: 36.3965330\tbest: 36.3965330 (700)\ttotal: 12s\tremaining: 4.62s\n",
      "800:\tlearn: 31.2996323\ttest: 34.1238518\tbest: 34.1238518 (800)\ttotal: 13.6s\tremaining: 2.87s\n",
      "900:\tlearn: 29.0272697\ttest: 32.1224518\tbest: 32.1224518 (900)\ttotal: 15.2s\tremaining: 1.16s\n",
      "969:\tlearn: 27.5227493\ttest: 30.9047954\tbest: 30.9047954 (969)\ttotal: 16.2s\tremaining: 0us\n",
      "\n",
      "bestTest = 30.90479538\n",
      "bestIteration = 969\n",
      "\n",
      "0:\tlearn: 140.5480635\ttest: 148.5111791\tbest: 148.5111791 (0)\ttotal: 16.2ms\tremaining: 15.7s\n",
      "100:\tlearn: 75.9399124\ttest: 76.1172133\tbest: 76.1172133 (100)\ttotal: 1.92s\tremaining: 16.5s\n",
      "200:\tlearn: 62.0782937\ttest: 62.3066623\tbest: 62.3066623 (200)\ttotal: 3.71s\tremaining: 14.2s\n",
      "300:\tlearn: 53.5752226\ttest: 53.7753432\tbest: 53.7753432 (300)\ttotal: 5.47s\tremaining: 12.2s\n",
      "400:\tlearn: 46.8441803\ttest: 47.0860938\tbest: 47.0860938 (400)\ttotal: 7.58s\tremaining: 10.8s\n",
      "500:\tlearn: 41.8160764\ttest: 42.1018790\tbest: 42.1018790 (500)\ttotal: 9.4s\tremaining: 8.8s\n",
      "600:\tlearn: 37.8732500\ttest: 38.1687936\tbest: 38.1687936 (600)\ttotal: 11.3s\tremaining: 6.92s\n",
      "700:\tlearn: 34.7069099\ttest: 35.0211544\tbest: 35.0211544 (700)\ttotal: 13.2s\tremaining: 5.06s\n",
      "800:\tlearn: 31.7437134\ttest: 32.0586730\tbest: 32.0586730 (800)\ttotal: 14.9s\tremaining: 3.15s\n",
      "900:\tlearn: 29.5198155\ttest: 29.8519926\tbest: 29.8519926 (900)\ttotal: 16.8s\tremaining: 1.29s\n",
      "969:\tlearn: 28.2498629\ttest: 28.6063868\tbest: 28.6063868 (969)\ttotal: 18.2s\tremaining: 0us\n",
      "\n",
      "bestTest = 28.60638682\n",
      "bestIteration = 969\n",
      "\n",
      "0:\tlearn: 140.9213765\ttest: 148.8744584\tbest: 148.8744584 (0)\ttotal: 18.1ms\tremaining: 17.6s\n",
      "100:\tlearn: 78.6330130\ttest: 78.1991501\tbest: 78.1991501 (100)\ttotal: 2.08s\tremaining: 17.9s\n",
      "200:\tlearn: 63.7719462\ttest: 63.2366055\tbest: 63.2366055 (200)\ttotal: 3.95s\tremaining: 15.1s\n",
      "300:\tlearn: 54.4469819\ttest: 53.9643532\tbest: 53.9643532 (300)\ttotal: 6.02s\tremaining: 13.4s\n",
      "400:\tlearn: 47.2382635\ttest: 46.9686967\tbest: 46.9686967 (400)\ttotal: 8.31s\tremaining: 11.8s\n",
      "500:\tlearn: 41.6131764\ttest: 41.4553091\tbest: 41.4553091 (500)\ttotal: 10.7s\tremaining: 10s\n",
      "600:\tlearn: 37.3426501\ttest: 37.3114089\tbest: 37.3114089 (600)\ttotal: 12.8s\tremaining: 7.88s\n",
      "700:\tlearn: 34.0312625\ttest: 33.9984728\tbest: 33.9984728 (700)\ttotal: 15s\tremaining: 5.75s\n",
      "800:\tlearn: 31.2257814\ttest: 31.2361324\tbest: 31.2361324 (800)\ttotal: 16.6s\tremaining: 3.51s\n",
      "900:\tlearn: 28.9300901\ttest: 28.9913142\tbest: 28.9913142 (900)\ttotal: 18.3s\tremaining: 1.4s\n",
      "969:\tlearn: 27.6773159\ttest: 27.7609567\tbest: 27.7609567 (969)\ttotal: 19.4s\tremaining: 0us\n",
      "\n",
      "bestTest = 27.76095672\n",
      "bestIteration = 969\n",
      "\n",
      "Overall RMSE (Validation): 29.60228444367878\n"
     ]
    }
   ],
   "source": [
    "from sklearn.model_selection import KFold\n",
    "from catboost import CatBoostRegressor\n",
    "import numpy as np\n",
    "\n",
    "# Assuming you have your features and target data in X and y, and test data in df_test\n",
    "\n",
    "# Create a CatBoostRegressor instance\n",
    "model = CatBoostRegressor(iterations=970,\n",
    "                          learning_rate=0.023916461397043003,\n",
    "                          depth=9,\n",
    "                          l2_leaf_reg=7,\n",
    "                          random_seed=42\n",
    "                          )\n",
    "\n",
    "# Initialize the KFold cross-validator\n",
    "n_splits = 5\n",
    "kf = KFold(n_splits=n_splits, shuffle=True, random_state=42)\n",
    "\n",
    "# Arrays to store predictions and true labels for each fold\n",
    "predictions = np.zeros(len(X))\n",
    "true_labels = np.zeros(len(X))\n",
    "test_predictions = np.zeros(len(df_test))\n",
    "\n",
    "# Perform cross-validation\n",
    "for fold, (train_idx, val_idx) in enumerate(kf.split(X, y)):\n",
    "    X_train, X_val = X.iloc[train_idx], X.iloc[val_idx]\n",
    "    y_train, y_val = y.iloc[train_idx], y.iloc[val_idx]\n",
    "\n",
    "    # Fit the CatBoost model on the training data\n",
    "    model.fit(X_train, y_train, eval_set=(X_val, y_val), verbose=100, early_stopping_rounds=50)\n",
    "\n",
    "    # Predict on the validation data\n",
    "    fold_preds = model.predict(X_val)\n",
    "\n",
    "    # Predict on the test data\n",
    "    fold_test_preds = model.predict(df_test)\n",
    "\n",
    "    # Store the predictions and true labels for evaluation\n",
    "    predictions[val_idx] = fold_preds\n",
    "    true_labels[val_idx] = y_val\n",
    "    test_predictions += fold_test_preds / n_splits  # Average predictions from all folds\n",
    "\n",
    "# Calculate the overall evaluation metric (e.g., RMSE) on all folds for the validation data\n",
    "overall_metric_val = np.sqrt(np.mean((true_labels - predictions) ** 2))\n",
    "print(\"Overall RMSE (Validation):\", overall_metric_val)"
   ]
  },
  {
   "cell_type": "code",
   "execution_count": 14,
   "metadata": {},
   "outputs": [
    {
     "name": "stdout",
     "output_type": "stream",
     "text": [
      "[LightGBM] [Warning] Auto-choosing row-wise multi-threading, the overhead of testing was 0.002174 seconds.\n",
      "You can set `force_row_wise=true` to remove the overhead.\n",
      "And if memory is not enough, you can set `force_col_wise=true`.\n",
      "[LightGBM] [Info] Total Bins 565\n",
      "[LightGBM] [Info] Number of data points in the train set: 63218, number of used features: 4\n",
      "[LightGBM] [Info] Start training from score 81.821283\n",
      "[LightGBM] [Warning] Auto-choosing col-wise multi-threading, the overhead of testing was 0.005894 seconds.\n",
      "You can set `force_col_wise=true` to remove the overhead.\n",
      "[LightGBM] [Info] Total Bins 565\n",
      "[LightGBM] [Info] Number of data points in the train set: 63218, number of used features: 4\n",
      "[LightGBM] [Info] Start training from score 82.179043\n",
      "[LightGBM] [Warning] Auto-choosing col-wise multi-threading, the overhead of testing was 0.002890 seconds.\n",
      "You can set `force_col_wise=true` to remove the overhead.\n",
      "[LightGBM] [Info] Total Bins 565\n",
      "[LightGBM] [Info] Number of data points in the train set: 63218, number of used features: 4\n",
      "[LightGBM] [Info] Start training from score 82.171562\n",
      "[LightGBM] [Warning] Auto-choosing row-wise multi-threading, the overhead of testing was 0.000699 seconds.\n",
      "You can set `force_row_wise=true` to remove the overhead.\n",
      "And if memory is not enough, you can set `force_col_wise=true`.\n",
      "[LightGBM] [Info] Total Bins 565\n",
      "[LightGBM] [Info] Number of data points in the train set: 63219, number of used features: 4\n",
      "[LightGBM] [Info] Start training from score 81.224126\n",
      "[LightGBM] [Warning] Auto-choosing col-wise multi-threading, the overhead of testing was 0.001858 seconds.\n",
      "You can set `force_col_wise=true` to remove the overhead.\n",
      "[LightGBM] [Info] Total Bins 565\n",
      "[LightGBM] [Info] Number of data points in the train set: 63219, number of used features: 4\n",
      "[LightGBM] [Info] Start training from score 82.306750\n",
      "overall RMSE (LGBMRegressor): 18.381621448464557\n"
     ]
    }
   ],
   "source": [
    "from lightgbm import LGBMRegressor\n",
    "import numpy as np\n",
    "from sklearn.model_selection import KFold\n",
    "\n",
    "lgbm_model = LGBMRegressor(n_estimators=150,\n",
    "                           learning_rate=0.2,\n",
    "                           min_child_samples=40,\n",
    "                           num_leaves=60\n",
    "                           )\n",
    "\n",
    "n_splits = 5\n",
    "kf = KFold(n_splits=n_splits, shuffle=True)\n",
    "\n",
    "lgbm_predictions = np.zeros(len(X))\n",
    "lgbm_true_labels = np.zeros(len(X))\n",
    "lgbm_test_predictions = np.zeros(len(df_test))\n",
    "\n",
    "for fold, (train_idx, val_idx) in enumerate(kf.split(X, y)):\n",
    "    X_train, X_val = X.iloc[train_idx], X.iloc[val_idx]\n",
    "    y_train, y_val = y.iloc[train_idx], y.iloc[val_idx]\n",
    "\n",
    "    lgbm_model.fit(X_train, y_train, eval_set=[(X_val, y_val)])\n",
    "    lgbm_fold_preds = lgbm_model.predict(X_val)\n",
    "\n",
    "    lgbm_fold_test_preds = lgbm_model.predict(df_test)\n",
    "\n",
    "    lgbm_predictions[val_idx] = lgbm_fold_preds\n",
    "    lgbm_true_labels[val_idx] = y_val\n",
    "    lgbm_test_predictions += lgbm_fold_test_preds / n_splits  \n",
    "\n",
    "overall_metric_lgbm = np.sqrt(np.mean((lgbm_true_labels - lgbm_predictions) ** 2))\n",
    "print(\"overall RMSE (LGBMRegressor):\", overall_metric_lgbm)"
   ]
  },
  {
   "cell_type": "code",
   "execution_count": 15,
   "metadata": {},
   "outputs": [],
   "source": [
    "ran=RandomForestRegressor(n_estimators=20,random_state=42)\n",
    "ran.fit(X,y)\n",
    "pred_ran=ran.predict(df_test)"
   ]
  },
  {
   "cell_type": "code",
   "execution_count": 16,
   "metadata": {},
   "outputs": [
    {
     "data": {
      "text/plain": [
       "array([ 3.26163817,  3.91458217,  4.03880074, ..., 29.6829721 ,\n",
       "       29.96688505, 29.53778035])"
      ]
     },
     "execution_count": 16,
     "metadata": {},
     "output_type": "execute_result"
    }
   ],
   "source": [
    "pred_ran"
   ]
  },
  {
   "cell_type": "code",
   "execution_count": 17,
   "metadata": {},
   "outputs": [
    {
     "data": {
      "text/plain": [
       "array([ 3.319557 ,  3.9718144,  4.030769 , ..., 29.701365 , 30.297634 ,\n",
       "       29.404171 ])"
      ]
     },
     "execution_count": 17,
     "metadata": {},
     "output_type": "execute_result"
    }
   ],
   "source": [
    "from sklearn.ensemble import ExtraTreesRegressor\n",
    "# Create an ExtraTreesRegressor model\n",
    "model = ExtraTreesRegressor(n_estimators=100)\n",
    "# Train the model\n",
    "model.fit(X, y)\n",
    "# Make predictions on the test data\n",
    "y_test_pred = model.predict(df_test)\n",
    "y_test_pred\n"
   ]
  },
  {
   "cell_type": "code",
   "execution_count": 18,
   "metadata": {},
   "outputs": [],
   "source": [
    "ensemble = y_test_pred*0.1 + pred_ran*0.4 +lgbm_test_predictions*0.05 +test_predictions*0.05+y_test_pred_prob*0.4"
   ]
  },
  {
   "cell_type": "code",
   "execution_count": 19,
   "metadata": {},
   "outputs": [
    {
     "data": {
      "text/plain": [
       "array([ 1.66074145,  3.49642496,  3.39296271, ..., 29.49029351,\n",
       "       29.92223958, 29.20002596])"
      ]
     },
     "execution_count": 19,
     "metadata": {},
     "output_type": "execute_result"
    }
   ],
   "source": [
    "ensemble"
   ]
  },
  {
   "cell_type": "code",
   "execution_count": 20,
   "metadata": {},
   "outputs": [],
   "source": [
    "df_sub['emission']=ensemble*1.05"
   ]
  },
  {
   "cell_type": "code",
   "execution_count": 21,
   "metadata": {},
   "outputs": [
    {
     "data": {
      "text/html": [
       "<div>\n",
       "<style scoped>\n",
       "    .dataframe tbody tr th:only-of-type {\n",
       "        vertical-align: middle;\n",
       "    }\n",
       "\n",
       "    .dataframe tbody tr th {\n",
       "        vertical-align: top;\n",
       "    }\n",
       "\n",
       "    .dataframe thead th {\n",
       "        text-align: right;\n",
       "    }\n",
       "</style>\n",
       "<table border=\"1\" class=\"dataframe\">\n",
       "  <thead>\n",
       "    <tr style=\"text-align: right;\">\n",
       "      <th></th>\n",
       "      <th>ID_LAT_LON_YEAR_WEEK</th>\n",
       "      <th>emission</th>\n",
       "    </tr>\n",
       "  </thead>\n",
       "  <tbody>\n",
       "    <tr>\n",
       "      <th>0</th>\n",
       "      <td>ID_-0.510_29.290_2022_00</td>\n",
       "      <td>1.743779</td>\n",
       "    </tr>\n",
       "    <tr>\n",
       "      <th>1</th>\n",
       "      <td>ID_-0.510_29.290_2022_01</td>\n",
       "      <td>3.671246</td>\n",
       "    </tr>\n",
       "    <tr>\n",
       "      <th>2</th>\n",
       "      <td>ID_-0.510_29.290_2022_02</td>\n",
       "      <td>3.562611</td>\n",
       "    </tr>\n",
       "    <tr>\n",
       "      <th>3</th>\n",
       "      <td>ID_-0.510_29.290_2022_03</td>\n",
       "      <td>3.657710</td>\n",
       "    </tr>\n",
       "    <tr>\n",
       "      <th>4</th>\n",
       "      <td>ID_-0.510_29.290_2022_04</td>\n",
       "      <td>3.842067</td>\n",
       "    </tr>\n",
       "  </tbody>\n",
       "</table>\n",
       "</div>"
      ],
      "text/plain": [
       "       ID_LAT_LON_YEAR_WEEK  emission\n",
       "0  ID_-0.510_29.290_2022_00  1.743779\n",
       "1  ID_-0.510_29.290_2022_01  3.671246\n",
       "2  ID_-0.510_29.290_2022_02  3.562611\n",
       "3  ID_-0.510_29.290_2022_03  3.657710\n",
       "4  ID_-0.510_29.290_2022_04  3.842067"
      ]
     },
     "execution_count": 21,
     "metadata": {},
     "output_type": "execute_result"
    }
   ],
   "source": [
    "df_sub.head()"
   ]
  },
  {
   "cell_type": "code",
   "execution_count": 22,
   "metadata": {},
   "outputs": [],
   "source": [
    "submission_fix = df_sub.copy()\n",
    "submission_fix.loc[df_test['longitude']==29.321,'emission'] = df_train_a.loc[(df_train_a['year']==2021)&(df_train_a['week_no']<=48)&(df_train_a['longitude']==29.321),'emission'].values"
   ]
  },
  {
   "cell_type": "code",
   "execution_count": 23,
   "metadata": {},
   "outputs": [
    {
     "data": {
      "image/png": "[encoded data removed]",
      "text/plain": [
       "<Figure size 1000x300 with 1 Axes>"
      ]
     },
     "metadata": {},
     "output_type": "display_data"
    }
   ],
   "source": [
    "# Plotting the emissions for the original submission\n",
    "df_sub.loc[df_test['longitude'] == 29.321, 'emission'].reset_index(drop=True).plot(figsize=(10,3),label='Original Submission')\n",
    "\n",
    "# Plotting the emissions after the bug fix\n",
    "submission_fix.loc[df_test['longitude'] == 29.321, 'emission'].reset_index(drop=True).plot(figsize=(10,3),label='Submission with Bug Fix')\n",
    "\n",
    "# Adding legends and labels\n",
    "plt.xlabel('Week Number')\n",
    "plt.ylabel('Emission')\n",
    "plt.title('Emission Prediction on 2022 for Location with Longitude 29.321')\n",
    "plt.legend()\n",
    "\n",
    "# Display the plot\n",
    "plt.show()"
   ]
  },
  {
   "cell_type": "code",
   "execution_count": 24,
   "metadata": {},
   "outputs": [],
   "source": [
    "df_sub.to_csv('submission.csv',index=False)"
   ]
  },
  {
   "cell_type": "code",
   "execution_count": null,
   "metadata": {},
   "outputs": [],
   "source": []
  },
  {
   "cell_type": "code",
   "execution_count": 25,
   "metadata": {},
   "outputs": [
    {
     "data": {
      "image/png": "[encoded data removed]",
      "text/plain": [
       "<Figure size 1000x1000 with 1 Axes>"
      ]
     },
     "metadata": {},
     "output_type": "display_data"
    }
   ],
   "source": [
    "# lightGBM 특성 중요도\n",
    "impo_df = pd.DataFrame({'feature': X.columns, 'importance': lgbm_model.feature_importances_}).set_index('feature').sort_values(by = 'importance', ascending = False)\n",
    "impo_df = impo_df[:12].sort_values(by = 'importance', ascending = True)\n",
    "impo_df.plot(kind = 'barh', figsize = (10, 10))\n",
    "plt.legend(loc = 'center right')\n",
    "plt.title('feature importance', fontsize = 14)\n",
    "plt.xlabel('Features', fontsize = 12)\n",
    "plt.show()"
   ]
  }
 ],
 "metadata": {
  "kernelspec": {
   "display_name": "base",
   "language": "python",
   "name": "python3"
  },
  "language_info": {
   "codemirror_mode": {
    "name": "ipython",
    "version": 3
   },
   "file_extension": ".py",
   "mimetype": "text/x-python",
   "name": "python",
   "nbconvert_exporter": "python",
   "pygments_lexer": "ipython3",
   "version": "3.9.16"
  },
  "orig_nbformat": 4
 },
 "nbformat": 4,
 "nbformat_minor": 2
}
